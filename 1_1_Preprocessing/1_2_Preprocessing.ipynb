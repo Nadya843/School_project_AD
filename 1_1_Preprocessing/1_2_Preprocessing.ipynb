{
 "cells": [
  {
   "cell_type": "markdown",
   "metadata": {},
   "source": [
    "# Исследование надёжности заёмщиков\n",
    "\n",
    "Заказчик — кредитный отдел банка. Нужно разобраться, влияет ли семейное положение и количество детей клиента на факт погашения кредита в срок. Входные данные от банка — статистика о платёжеспособности клиентов.\n",
    "\n",
    "Результаты исследования будут учтены при построении модели **кредитного скоринга** — специальной системы, которая оценивает способность потенциального заёмщика вернуть кредит банку."
   ]
  },
  {
   "cell_type": "markdown",
   "metadata": {},
   "source": [
    "## Шаг 1. Откройте файл с данными и изучите общую информацию"]
  },
  {
   "cell_type": "code",
   "execution_count": 1,
   "metadata": {},
   "outputs": [],
   "source": [
    "import pandas as pd\n",
    "import os\n",
    "\n",
    "pth1 = 'data.csv'\n",
    "pth2 = '/datasets/data.csv'\n",
    "    \n",
    "if os.path.exists(pth1):\n",
    "    df = pd.read_csv(pth1)\n",
    "elif os.path.exists(pth2):\n",
    "    df = pd.read_csv(pth2)\n",
    "else:\n",
    "    print('Something is wrong')"
   ]
  },
  {
   "cell_type": "code",
   "execution_count": 2,
   "metadata": {},
   "outputs": [
    {
     "data": {
      "text/html": [
       "<div>\n",
       "<style scoped>\n",
       "    .dataframe tbody tr th:only-of-type {\n",
       "        vertical-align: middle;\n",
       "    }\n",
       "\n",
       "    .dataframe tbody tr th {\n",
       "        vertical-align: top;\n",
       "    }\n",
       "\n",
       "    .dataframe thead th {\n",
       "        text-align: right;\n",
       "    }\n",
       "</style>\n",
       "<table border=\"1\" class=\"dataframe\">\n",
       "  <thead>\n",
       "    <tr style=\"text-align: right;\">\n",
       "      <th></th>\n",
       "      <th>children</th>\n",
       "      <th>days_employed</th>\n",
       "      <th>dob_years</th>\n",
       "      <th>education</th>\n",
       "      <th>education_id</th>\n",
       "      <th>family_status</th>\n",
       "      <th>family_status_id</th>\n",
       "      <th>gender</th>\n",
       "      <th>income_type</th>\n",
       "      <th>debt</th>\n",
       "      <th>total_income</th>\n",
       "      <th>purpose</th>\n",
       "    </tr>\n",
       "  </thead>\n",
       "  <tbody>\n",
       "    <tr>\n",
       "      <td>0</td>\n",
       "      <td>1</td>\n",
       "      <td>-8437.673028</td>\n",
       "      <td>42</td>\n",
       "      <td>высшее</td>\n",
       "      <td>0</td>\n",
       "      <td>женат / замужем</td>\n",
       "      <td>0</td>\n",
       "      <td>F</td>\n",
       "      <td>сотрудник</td>\n",
       "      <td>0</td>\n",
       "      <td>253875.639453</td>\n",
       "      <td>покупка жилья</td>\n",
       "    </tr>\n",
       "    <tr>\n",
       "      <td>1</td>\n",
       "      <td>1</td>\n",
       "      <td>-4024.803754</td>\n",
       "      <td>36</td>\n",
       "      <td>среднее</td>\n",
       "      <td>1</td>\n",
       "      <td>женат / замужем</td>\n",
       "      <td>0</td>\n",
       "      <td>F</td>\n",
       "      <td>сотрудник</td>\n",
       "      <td>0</td>\n",
       "      <td>112080.014102</td>\n",
       "      <td>приобретение автомобиля</td>\n",
       "    </tr>\n",
       "    <tr>\n",
       "      <td>2</td>\n",
       "      <td>0</td>\n",
       "      <td>-5623.422610</td>\n",
       "      <td>33</td>\n",
       "      <td>Среднее</td>\n",
       "      <td>1</td>\n",
       "      <td>женат / замужем</td>\n",
       "      <td>0</td>\n",
       "      <td>M</td>\n",
       "      <td>сотрудник</td>\n",
       "      <td>0</td>\n",
       "      <td>145885.952297</td>\n",
       "      <td>покупка жилья</td>\n",
       "    </tr>\n",
       "    <tr>\n",
       "      <td>3</td>\n",
       "      <td>3</td>\n",
       "      <td>-4124.747207</td>\n",
       "      <td>32</td>\n",
       "      <td>среднее</td>\n",
       "      <td>1</td>\n",
       "      <td>женат / замужем</td>\n",
       "      <td>0</td>\n",
       "      <td>M</td>\n",
       "      <td>сотрудник</td>\n",
       "      <td>0</td>\n",
       "      <td>267628.550329</td>\n",
       "      <td>дополнительное образование</td>\n",
       "    </tr>\n",
       "    <tr>\n",
       "      <td>4</td>\n",
       "      <td>0</td>\n",
       "      <td>340266.072047</td>\n",
       "      <td>53</td>\n",
       "      <td>среднее</td>\n",
       "      <td>1</td>\n",
       "      <td>гражданский брак</td>\n",
       "      <td>1</td>\n",
       "      <td>F</td>\n",
       "      <td>пенсионер</td>\n",
       "      <td>0</td>\n",
       "      <td>158616.077870</td>\n",
       "      <td>сыграть свадьбу</td>\n",
       "    </tr>\n",
       "  </tbody>\n",
       "</table>\n",
       "</div>"
      ],
      "text/plain": [
       "   children  days_employed  dob_years education  education_id  \\\n",
       "0         1   -8437.673028         42    высшее             0   \n",
       "1         1   -4024.803754         36   среднее             1   \n",
       "2         0   -5623.422610         33   Среднее             1   \n",
       "3         3   -4124.747207         32   среднее             1   \n",
       "4         0  340266.072047         53   среднее             1   \n",
       "\n",
       "      family_status  family_status_id gender income_type  debt   total_income  \\\n",
       "0   женат / замужем                 0      F   сотрудник     0  253875.639453   \n",
       "1   женат / замужем                 0      F   сотрудник     0  112080.014102   \n",
       "2   женат / замужем                 0      M   сотрудник     0  145885.952297   \n",
       "3   женат / замужем                 0      M   сотрудник     0  267628.550329   \n",
       "4  гражданский брак                 1      F   пенсионер     0  158616.077870   \n",
       "\n",
       "                      purpose  \n",
       "0               покупка жилья  \n",
       "1     приобретение автомобиля  \n",
       "2               покупка жилья  \n",
       "3  дополнительное образование  \n",
       "4             сыграть свадьбу  "
      ]
     },
     "execution_count": 2,
     "metadata": {},
     "output_type": "execute_result"
    }
   ],
   "source": [
    "# Первые пять строк табицы данных\n",
    "df.head()"
   ]
  },
  {
   "cell_type": "code",
   "execution_count": 3,
   "metadata": {},
   "outputs": [
    {
     "data": {
      "text/plain": [
       "112874.418757    1\n",
       "133912.272223    1\n",
       "182036.676828    1\n",
       "122421.963500    1\n",
       "198271.837248    1\n",
       "                ..\n",
       "133299.194693    1\n",
       "115080.782380    1\n",
       "84896.781597     1\n",
       "153838.839212    1\n",
       "150014.128510    1\n",
       "Name: total_income, Length: 19351, dtype: int64"
      ]
     },
     "execution_count": 3,
     "metadata": {},
     "output_type": "execute_result"
    }
   ],
   "source": [
    "df['total_income'].value_counts()"
   ]
  },
  {
   "cell_type": "code",
   "execution_count": 4,
   "metadata": {},
   "outputs": [],
   "source": [
    "#Переименуем название столбца 'dob_years' на более понятный 'age'\n",
    "df = df.rename(columns={'dob_years':'age'})"
   ]
  },
  {
   "cell_type": "code",
   "execution_count": 5,
   "metadata": {},
   "outputs": [
    {
     "name": "stdout",
     "output_type": "stream",
     "text": [
      "<class 'pandas.core.frame.DataFrame'>\n",
      "RangeIndex: 21525 entries, 0 to 21524\n",
      "Data columns (total 12 columns):\n",
      "children            21525 non-null int64\n",
      "days_employed       19351 non-null float64\n",
      "age                 21525 non-null int64\n",
      "education           21525 non-null object\n",
      "education_id        21525 non-null int64\n",
      "family_status       21525 non-null object\n",
      "family_status_id    21525 non-null int64\n",
      "gender              21525 non-null object\n",
      "income_type         21525 non-null object\n",
      "debt                21525 non-null int64\n",
      "total_income        19351 non-null float64\n",
      "purpose             21525 non-null object\n",
      "dtypes: float64(2), int64(5), object(5)\n",
      "memory usage: 2.0+ MB\n"
     ]
    }
   ],
   "source": [
    "# Общая информация о датасете\n",
    "df.info()"
   ]
  },
  {
   "cell_type": "code",
   "execution_count": 6,
   "metadata": {},
   "outputs": [
    {
     "data": {
      "text/html": [
       "<div>\n",
       "<style scoped>\n",
       "    .dataframe tbody tr th:only-of-type {\n",
       "        vertical-align: middle;\n",
       "    }\n",
       "\n",
       "    .dataframe tbody tr th {\n",
       "        vertical-align: top;\n",
       "    }\n",
       "\n",
       "    .dataframe thead th {\n",
       "        text-align: right;\n",
       "    }\n",
       "</style>\n",
       "<table border=\"1\" class=\"dataframe\">\n",
       "  <thead>\n",
       "    <tr style=\"text-align: right;\">\n",
       "      <th></th>\n",
       "      <th>children</th>\n",
       "      <th>days_employed</th>\n",
       "      <th>age</th>\n",
       "      <th>education_id</th>\n",
       "      <th>family_status_id</th>\n",
       "      <th>debt</th>\n",
       "      <th>total_income</th>\n",
       "    </tr>\n",
       "  </thead>\n",
       "  <tbody>\n",
       "    <tr>\n",
       "      <td>count</td>\n",
       "      <td>21525.000000</td>\n",
       "      <td>19351.000000</td>\n",
       "      <td>21525.000000</td>\n",
       "      <td>21525.000000</td>\n",
       "      <td>21525.000000</td>\n",
       "      <td>21525.000000</td>\n",
       "      <td>1.935100e+04</td>\n",
       "    </tr>\n",
       "    <tr>\n",
       "      <td>mean</td>\n",
       "      <td>0.538908</td>\n",
       "      <td>63046.497661</td>\n",
       "      <td>43.293380</td>\n",
       "      <td>0.817236</td>\n",
       "      <td>0.972544</td>\n",
       "      <td>0.080883</td>\n",
       "      <td>1.674223e+05</td>\n",
       "    </tr>\n",
       "    <tr>\n",
       "      <td>std</td>\n",
       "      <td>1.381587</td>\n",
       "      <td>140827.311974</td>\n",
       "      <td>12.574584</td>\n",
       "      <td>0.548138</td>\n",
       "      <td>1.420324</td>\n",
       "      <td>0.272661</td>\n",
       "      <td>1.029716e+05</td>\n",
       "    </tr>\n",
       "    <tr>\n",
       "      <td>min</td>\n",
       "      <td>-1.000000</td>\n",
       "      <td>-18388.949901</td>\n",
       "      <td>0.000000</td>\n",
       "      <td>0.000000</td>\n",
       "      <td>0.000000</td>\n",
       "      <td>0.000000</td>\n",
       "      <td>2.066726e+04</td>\n",
       "    </tr>\n",
       "    <tr>\n",
       "      <td>25%</td>\n",
       "      <td>0.000000</td>\n",
       "      <td>-2747.423625</td>\n",
       "      <td>33.000000</td>\n",
       "      <td>1.000000</td>\n",
       "      <td>0.000000</td>\n",
       "      <td>0.000000</td>\n",
       "      <td>1.030532e+05</td>\n",
       "    </tr>\n",
       "    <tr>\n",
       "      <td>50%</td>\n",
       "      <td>0.000000</td>\n",
       "      <td>-1203.369529</td>\n",
       "      <td>42.000000</td>\n",
       "      <td>1.000000</td>\n",
       "      <td>0.000000</td>\n",
       "      <td>0.000000</td>\n",
       "      <td>1.450179e+05</td>\n",
       "    </tr>\n",
       "    <tr>\n",
       "      <td>75%</td>\n",
       "      <td>1.000000</td>\n",
       "      <td>-291.095954</td>\n",
       "      <td>53.000000</td>\n",
       "      <td>1.000000</td>\n",
       "      <td>1.000000</td>\n",
       "      <td>0.000000</td>\n",
       "      <td>2.034351e+05</td>\n",
       "    </tr>\n",
       "    <tr>\n",
       "      <td>max</td>\n",
       "      <td>20.000000</td>\n",
       "      <td>401755.400475</td>\n",
       "      <td>75.000000</td>\n",
       "      <td>4.000000</td>\n",
       "      <td>4.000000</td>\n",
       "      <td>1.000000</td>\n",
       "      <td>2.265604e+06</td>\n",
       "    </tr>\n",
       "  </tbody>\n",
       "</table>\n",
       "</div>"
      ],
      "text/plain": [
       "           children  days_employed           age  education_id  \\\n",
       "count  21525.000000   19351.000000  21525.000000  21525.000000   \n",
       "mean       0.538908   63046.497661     43.293380      0.817236   \n",
       "std        1.381587  140827.311974     12.574584      0.548138   \n",
       "min       -1.000000  -18388.949901      0.000000      0.000000   \n",
       "25%        0.000000   -2747.423625     33.000000      1.000000   \n",
       "50%        0.000000   -1203.369529     42.000000      1.000000   \n",
       "75%        1.000000    -291.095954     53.000000      1.000000   \n",
       "max       20.000000  401755.400475     75.000000      4.000000   \n",
       "\n",
       "       family_status_id          debt  total_income  \n",
       "count      21525.000000  21525.000000  1.935100e+04  \n",
       "mean           0.972544      0.080883  1.674223e+05  \n",
       "std            1.420324      0.272661  1.029716e+05  \n",
       "min            0.000000      0.000000  2.066726e+04  \n",
       "25%            0.000000      0.000000  1.030532e+05  \n",
       "50%            0.000000      0.000000  1.450179e+05  \n",
       "75%            1.000000      0.000000  2.034351e+05  \n",
       "max            4.000000      1.000000  2.265604e+06  "
      ]
     },
     "execution_count": 6,
     "metadata": {},
     "output_type": "execute_result"
    }
   ],
   "source": [
    "#Общая статистика по столбцам с числовым типом данных\n",
    "df.describe()"
   ]
  },
  {
   "cell_type": "code",
   "execution_count": 7,
   "metadata": {},
   "outputs": [
    {
     "data": {
      "text/html": [
       "<div>\n",
       "<style scoped>\n",
       "    .dataframe tbody tr th:only-of-type {\n",
       "        vertical-align: middle;\n",
       "    }\n",
       "\n",
       "    .dataframe tbody tr th {\n",
       "        vertical-align: top;\n",
       "    }\n",
       "\n",
       "    .dataframe thead th {\n",
       "        text-align: right;\n",
       "    }\n",
       "</style>\n",
       "<table border=\"1\" class=\"dataframe\">\n",
       "  <thead>\n",
       "    <tr style=\"text-align: right;\">\n",
       "      <th></th>\n",
       "      <th>education</th>\n",
       "      <th>family_status</th>\n",
       "      <th>gender</th>\n",
       "      <th>income_type</th>\n",
       "      <th>purpose</th>\n",
       "    </tr>\n",
       "  </thead>\n",
       "  <tbody>\n",
       "    <tr>\n",
       "      <td>count</td>\n",
       "      <td>21525</td>\n",
       "      <td>21525</td>\n",
       "      <td>21525</td>\n",
       "      <td>21525</td>\n",
       "      <td>21525</td>\n",
       "    </tr>\n",
       "    <tr>\n",
       "      <td>unique</td>\n",
       "      <td>15</td>\n",
       "      <td>5</td>\n",
       "      <td>3</td>\n",
       "      <td>8</td>\n",
       "      <td>38</td>\n",
       "    </tr>\n",
       "    <tr>\n",
       "      <td>top</td>\n",
       "      <td>среднее</td>\n",
       "      <td>женат / замужем</td>\n",
       "      <td>F</td>\n",
       "      <td>сотрудник</td>\n",
       "      <td>свадьба</td>\n",
       "    </tr>\n",
       "    <tr>\n",
       "      <td>freq</td>\n",
       "      <td>13750</td>\n",
       "      <td>12380</td>\n",
       "      <td>14236</td>\n",
       "      <td>11119</td>\n",
       "      <td>797</td>\n",
       "    </tr>\n",
       "  </tbody>\n",
       "</table>\n",
       "</div>"
      ],
      "text/plain": [
       "       education    family_status gender income_type  purpose\n",
       "count      21525            21525  21525       21525    21525\n",
       "unique        15                5      3           8       38\n",
       "top      среднее  женат / замужем      F   сотрудник  свадьба\n",
       "freq       13750            12380  14236       11119      797"
      ]
     },
     "execution_count": 7,
     "metadata": {},
     "output_type": "execute_result"
    }
   ],
   "source": [
    "#Общая статистика по столбцам со строковым типом данных\n",
    "df.describe(include='object')"
   ]
  },
  {
   "cell_type": "code",
   "execution_count": 8,
   "metadata": {},
   "outputs": [
    {
     "data": {
      "text/plain": [
       "array(['высшее', 'среднее', 'Среднее', 'СРЕДНЕЕ', 'ВЫСШЕЕ',\n",
       "       'неоконченное высшее', 'начальное', 'Высшее',\n",
       "       'НЕОКОНЧЕННОЕ ВЫСШЕЕ', 'Неоконченное высшее', 'НАЧАЛЬНОЕ',\n",
       "       'Начальное', 'Ученая степень', 'УЧЕНАЯ СТЕПЕНЬ', 'ученая степень'],\n",
       "      dtype=object)"
      ]
     },
     "metadata": {},
     "output_type": "display_data"
    },
    {
     "data": {
      "text/plain": [
       "array(['женат / замужем', 'гражданский брак', 'вдовец / вдова',\n",
       "       'в разводе', 'Не женат / не замужем'], dtype=object)"
      ]
     },
     "metadata": {},
     "output_type": "display_data"
    },
    {
     "data": {
      "text/plain": [
       "array(['F', 'M', 'XNA'], dtype=object)"
      ]
     },
     "metadata": {},
     "output_type": "display_data"
    },
    {
     "data": {
      "text/plain": [
       "array(['сотрудник', 'пенсионер', 'компаньон', 'госслужащий',\n",
       "       'безработный', 'предприниматель', 'студент', 'в декрете'],\n",
       "      dtype=object)"
      ]
     },
     "metadata": {},
     "output_type": "display_data"
    },
    {
     "data": {
      "text/plain": [
       "array(['покупка жилья', 'приобретение автомобиля',\n",
       "       'дополнительное образование', 'сыграть свадьбу',\n",
       "       'операции с жильем', 'образование', 'на проведение свадьбы',\n",
       "       'покупка жилья для семьи', 'покупка недвижимости',\n",
       "       'покупка коммерческой недвижимости', 'покупка жилой недвижимости',\n",
       "       'строительство собственной недвижимости', 'недвижимость',\n",
       "       'строительство недвижимости', 'на покупку подержанного автомобиля',\n",
       "       'на покупку своего автомобиля',\n",
       "       'операции с коммерческой недвижимостью',\n",
       "       'строительство жилой недвижимости', 'жилье',\n",
       "       'операции со своей недвижимостью', 'автомобили',\n",
       "       'заняться образованием', 'сделка с подержанным автомобилем',\n",
       "       'получение образования', 'автомобиль', 'свадьба',\n",
       "       'получение дополнительного образования', 'покупка своего жилья',\n",
       "       'операции с недвижимостью', 'получение высшего образования',\n",
       "       'свой автомобиль', 'сделка с автомобилем',\n",
       "       'профильное образование', 'высшее образование',\n",
       "       'покупка жилья для сдачи', 'на покупку автомобиля', 'ремонт жилью',\n",
       "       'заняться высшим образованием'], dtype=object)"
      ]
     },
     "metadata": {},
     "output_type": "display_data"
    }
   ],
   "source": [
    "#Уникальные значения по столбцам со строковым типом данных\n",
    "display(df['education'].unique())\n",
    "display(df['family_status'].unique())\n",
    "display(df['gender'].unique())\n",
    "display(df['income_type'].unique())\n",
    "display(df['purpose'].unique())"
   ]
  },
  {
   "cell_type": "markdown",
   "metadata": {},
   "source": [
    "**Вывод**"
   ]
  },
  {
   "cell_type": "markdown",
   "metadata": {},
   "source": [
    "Таблица данных содержит 12 столбцов и более 21 тыс. строк. Предварительно можно утверждать, что, данных достаточно для проверки гипотез. В каждой строке таблицы содержится информация о конкретном заемщике.  \n",
    "Названия столбцов в целом соответствуют \"хорошему стилю\". В столбцах `days_employed` и `total_income` имеются пропуски.  \n",
    "Из статистики по столбцам можно выделить следующие особенности набоа данных:  \n",
    "* Медианное количество детей в семье составляет 0, т.е. заемщики в основной массе люди без детей. Минимальное значение количества детей в семье - (-1), т.е. отрицательное число, что свидетельствует о наличии некорректных значений в данном столбце. Максимальное количество детей в семье - 20, также требует внимания, т.к. значение слишком большое.\n",
    "* Столбец с общим трудовым стажем в основном состоит из отрицательных значений, что наталкивает на мысль об ошибочности знака \"минус\" в данных. Однако имеются и положительные значения, причем максимальное значение столбца составляет 401 755 дней, что примерно равно 1 101 году. Таким образом, столбец содержит различные виды ошибок.\n",
    "* Возраст заемщиков содержит нулевые значения.\n",
    "* Месячный доход заемщиков изменяется от 20 до 226 тыс. у.е., среднее значение составляет - 167 тыс.у.е., медианное значение - 145 тыс. у.е. В столбце отсутствуют нулевые значения, однако имеются пропуски.\n",
    "* Столбец с уровнем образования имеет 15 категорий, столбец с целями кредита насчитывает 38 категорий -  в данных столбцах имеется большое количество дублей. \n",
    "* Столбец с полом имеет 3 уникальных значения, из-за неявного пропуска вида 'XNA'."
   ]
  },
  {
   "cell_type": "markdown",
   "metadata": {},
   "source": [
    "## Шаг 2. Предобработка данных"
   ]
  },
  {
   "cell_type": "markdown",
   "metadata": {},
   "source": [
    "### Обработка пропусков"
   ]
  },
  {
   "cell_type": "markdown",
   "metadata": {},
   "source": [
    "На этапе изучения общей информации, определили, что явные пропуски содержатся в столбцах `days_employed` и `total_income`"
   ]
  },
  {
   "cell_type": "code",
   "execution_count": 9,
   "metadata": {},
   "outputs": [
    {
     "data": {
      "text/plain": [
       "2174"
      ]
     },
     "execution_count": 9,
     "metadata": {},
     "output_type": "execute_result"
    }
   ],
   "source": [
    "#Определим количество пропусков в столбце 'days_employed'\n",
    "df['days_employed'].isna().sum()"
   ]
  },
  {
   "cell_type": "code",
   "execution_count": 10,
   "metadata": {},
   "outputs": [
    {
     "data": {
      "text/plain": [
       "2174"
      ]
     },
     "execution_count": 10,
     "metadata": {},
     "output_type": "execute_result"
    }
   ],
   "source": [
    "#Количество пропусков в столбце 'total_income'\n",
    "df['total_income'].isna().sum()"
   ]
  },
  {
   "cell_type": "markdown",
   "metadata": {},
   "source": [
    "Количество пропусков в столбцах с трудовым стажем и ежемесячным доходом совпадают. Можно предположить, что пропуски взаимосвязаны друг с другом, т.е. пропуск в столбце трудового стажа соответствует пропуску в столбце с ежемесячным доходом. Выясним, так ли это"
   ]
  },
  {
   "cell_type": "code",
   "execution_count": 11,
   "metadata": {},
   "outputs": [
    {
     "data": {
      "text/plain": [
       "True    21525\n",
       "dtype: int64"
      ]
     },
     "execution_count": 11,
     "metadata": {},
     "output_type": "execute_result"
    }
   ],
   "source": [
    "(df['days_employed'].isna() == df['total_income'].isna()).value_counts()"
   ]
  },
  {
   "cell_type": "markdown",
   "metadata": {},
   "source": [
    "Таким образом, стобцы `days_employed` и `total_income` полностью соответствуют друг другу по критерию наличия/отсутствия пропуска.  \n",
    "Проверим, не связано ли наличие пропусков со значениями в других столбцах. Можно предположить, что пустые значения это нули, и они будут более характерными для некоторых типов занятости, например, безработных."
   ]
  },
  {
   "cell_type": "code",
   "execution_count": 12,
   "metadata": {},
   "outputs": [
    {
     "data": {
      "text/html": [
       "<div>\n",
       "<style scoped>\n",
       "    .dataframe tbody tr th:only-of-type {\n",
       "        vertical-align: middle;\n",
       "    }\n",
       "\n",
       "    .dataframe tbody tr th {\n",
       "        vertical-align: top;\n",
       "    }\n",
       "\n",
       "    .dataframe thead th {\n",
       "        text-align: right;\n",
       "    }\n",
       "</style>\n",
       "<table border=\"1\" class=\"dataframe\">\n",
       "  <thead>\n",
       "    <tr style=\"text-align: right;\">\n",
       "      <th></th>\n",
       "      <th>income_type_all</th>\n",
       "      <th>income_type_nan</th>\n",
       "      <th>percent_of_nan</th>\n",
       "    </tr>\n",
       "  </thead>\n",
       "  <tbody>\n",
       "    <tr>\n",
       "      <td>сотрудник</td>\n",
       "      <td>11119</td>\n",
       "      <td>1105.0</td>\n",
       "      <td>9.9</td>\n",
       "    </tr>\n",
       "    <tr>\n",
       "      <td>компаньон</td>\n",
       "      <td>5085</td>\n",
       "      <td>508.0</td>\n",
       "      <td>10.0</td>\n",
       "    </tr>\n",
       "    <tr>\n",
       "      <td>пенсионер</td>\n",
       "      <td>3856</td>\n",
       "      <td>413.0</td>\n",
       "      <td>10.7</td>\n",
       "    </tr>\n",
       "    <tr>\n",
       "      <td>госслужащий</td>\n",
       "      <td>1459</td>\n",
       "      <td>147.0</td>\n",
       "      <td>10.1</td>\n",
       "    </tr>\n",
       "    <tr>\n",
       "      <td>предприниматель</td>\n",
       "      <td>2</td>\n",
       "      <td>1.0</td>\n",
       "      <td>50.0</td>\n",
       "    </tr>\n",
       "    <tr>\n",
       "      <td>безработный</td>\n",
       "      <td>2</td>\n",
       "      <td>NaN</td>\n",
       "      <td>NaN</td>\n",
       "    </tr>\n",
       "    <tr>\n",
       "      <td>студент</td>\n",
       "      <td>1</td>\n",
       "      <td>NaN</td>\n",
       "      <td>NaN</td>\n",
       "    </tr>\n",
       "    <tr>\n",
       "      <td>в декрете</td>\n",
       "      <td>1</td>\n",
       "      <td>NaN</td>\n",
       "      <td>NaN</td>\n",
       "    </tr>\n",
       "  </tbody>\n",
       "</table>\n",
       "</div>"
      ],
      "text/plain": [
       "                 income_type_all  income_type_nan  percent_of_nan\n",
       "сотрудник                  11119           1105.0             9.9\n",
       "компаньон                   5085            508.0            10.0\n",
       "пенсионер                   3856            413.0            10.7\n",
       "госслужащий                 1459            147.0            10.1\n",
       "предприниматель                2              1.0            50.0\n",
       "безработный                    2              NaN             NaN\n",
       "студент                        1              NaN             NaN\n",
       "в декрете                      1              NaN             NaN"
      ]
     },
     "execution_count": 12,
     "metadata": {},
     "output_type": "execute_result"
    }
   ],
   "source": [
    "#Определим процент пропущенных значений для каждого типа занятости. \n",
    "df_income_type_all = df['income_type'].value_counts().rename('income_type_all')\n",
    "df_income_type_nan = df[df['total_income'].isna()]['income_type'].value_counts().rename('income_type_nan')\n",
    "df_income_type_merged = pd.merge(df_income_type_all, df_income_type_nan, how='left', left_index=True, right_index=True)\n",
    "df_income_type_merged['percent_of_nan'] = (df_income_type_merged['income_type_nan'] /\n",
    "                                         df_income_type_merged['income_type_all'] * 100).round(1)\n",
    "df_income_type_merged"
   ]
  },
  {
   "cell_type": "markdown",
   "metadata": {},
   "source": [
    "Гипотеза не подтвердилась, наличие пропусков не связано с типом занятости и составляет около 10% для каждой группы.  \n",
    "Обратим также внимание, что некоторые типы занятости (\"предприниматель\", \"безработный\", \"студент\" и \"в декрете\") представлены единичными заемщиками.  \n",
    "Связь пропусков с другими признаками менее правдоподобна, проверим для уровня образования клиентов и пола:"
   ]
  },
  {
   "cell_type": "code",
   "execution_count": 13,
   "metadata": {},
   "outputs": [
    {
     "data": {
      "text/html": [
       "<div>\n",
       "<style scoped>\n",
       "    .dataframe tbody tr th:only-of-type {\n",
       "        vertical-align: middle;\n",
       "    }\n",
       "\n",
       "    .dataframe tbody tr th {\n",
       "        vertical-align: top;\n",
       "    }\n",
       "\n",
       "    .dataframe thead th {\n",
       "        text-align: right;\n",
       "    }\n",
       "</style>\n",
       "<table border=\"1\" class=\"dataframe\">\n",
       "  <thead>\n",
       "    <tr style=\"text-align: right;\">\n",
       "      <th></th>\n",
       "      <th>education_all</th>\n",
       "      <th>education_nan</th>\n",
       "      <th>percent_of_nan</th>\n",
       "    </tr>\n",
       "  </thead>\n",
       "  <tbody>\n",
       "    <tr>\n",
       "      <td>среднее</td>\n",
       "      <td>13750</td>\n",
       "      <td>1408.0</td>\n",
       "      <td>10.2</td>\n",
       "    </tr>\n",
       "    <tr>\n",
       "      <td>высшее</td>\n",
       "      <td>4718</td>\n",
       "      <td>496.0</td>\n",
       "      <td>10.5</td>\n",
       "    </tr>\n",
       "    <tr>\n",
       "      <td>СРЕДНЕЕ</td>\n",
       "      <td>772</td>\n",
       "      <td>67.0</td>\n",
       "      <td>8.7</td>\n",
       "    </tr>\n",
       "    <tr>\n",
       "      <td>Среднее</td>\n",
       "      <td>711</td>\n",
       "      <td>65.0</td>\n",
       "      <td>9.1</td>\n",
       "    </tr>\n",
       "    <tr>\n",
       "      <td>неоконченное высшее</td>\n",
       "      <td>668</td>\n",
       "      <td>55.0</td>\n",
       "      <td>8.2</td>\n",
       "    </tr>\n",
       "    <tr>\n",
       "      <td>ВЫСШЕЕ</td>\n",
       "      <td>274</td>\n",
       "      <td>23.0</td>\n",
       "      <td>8.4</td>\n",
       "    </tr>\n",
       "    <tr>\n",
       "      <td>Высшее</td>\n",
       "      <td>268</td>\n",
       "      <td>25.0</td>\n",
       "      <td>9.3</td>\n",
       "    </tr>\n",
       "    <tr>\n",
       "      <td>начальное</td>\n",
       "      <td>250</td>\n",
       "      <td>19.0</td>\n",
       "      <td>7.6</td>\n",
       "    </tr>\n",
       "    <tr>\n",
       "      <td>Неоконченное высшее</td>\n",
       "      <td>47</td>\n",
       "      <td>7.0</td>\n",
       "      <td>14.9</td>\n",
       "    </tr>\n",
       "    <tr>\n",
       "      <td>НЕОКОНЧЕННОЕ ВЫСШЕЕ</td>\n",
       "      <td>29</td>\n",
       "      <td>7.0</td>\n",
       "      <td>24.1</td>\n",
       "    </tr>\n",
       "    <tr>\n",
       "      <td>НАЧАЛЬНОЕ</td>\n",
       "      <td>17</td>\n",
       "      <td>1.0</td>\n",
       "      <td>5.9</td>\n",
       "    </tr>\n",
       "    <tr>\n",
       "      <td>Начальное</td>\n",
       "      <td>15</td>\n",
       "      <td>1.0</td>\n",
       "      <td>6.7</td>\n",
       "    </tr>\n",
       "    <tr>\n",
       "      <td>ученая степень</td>\n",
       "      <td>4</td>\n",
       "      <td>NaN</td>\n",
       "      <td>NaN</td>\n",
       "    </tr>\n",
       "    <tr>\n",
       "      <td>Ученая степень</td>\n",
       "      <td>1</td>\n",
       "      <td>NaN</td>\n",
       "      <td>NaN</td>\n",
       "    </tr>\n",
       "    <tr>\n",
       "      <td>УЧЕНАЯ СТЕПЕНЬ</td>\n",
       "      <td>1</td>\n",
       "      <td>NaN</td>\n",
       "      <td>NaN</td>\n",
       "    </tr>\n",
       "  </tbody>\n",
       "</table>\n",
       "</div>"
      ],
      "text/plain": [
       "                     education_all  education_nan  percent_of_nan\n",
       "среднее                      13750         1408.0            10.2\n",
       "высшее                        4718          496.0            10.5\n",
       "СРЕДНЕЕ                        772           67.0             8.7\n",
       "Среднее                        711           65.0             9.1\n",
       "неоконченное высшее            668           55.0             8.2\n",
       "ВЫСШЕЕ                         274           23.0             8.4\n",
       "Высшее                         268           25.0             9.3\n",
       "начальное                      250           19.0             7.6\n",
       "Неоконченное высшее             47            7.0            14.9\n",
       "НЕОКОНЧЕННОЕ ВЫСШЕЕ             29            7.0            24.1\n",
       "НАЧАЛЬНОЕ                       17            1.0             5.9\n",
       "Начальное                       15            1.0             6.7\n",
       "ученая степень                   4            NaN             NaN\n",
       "Ученая степень                   1            NaN             NaN\n",
       "УЧЕНАЯ СТЕПЕНЬ                   1            NaN             NaN"
      ]
     },
     "execution_count": 13,
     "metadata": {},
     "output_type": "execute_result"
    }
   ],
   "source": [
    "#Определим процент пропущенных значений для каждого уровня образования. \n",
    "df_education_all = df['education'].value_counts().rename('education_all')\n",
    "df_education_nan = df[df['total_income'].isna()]['education'].value_counts().rename('education_nan')\n",
    "df_education_merged = pd.merge(df_education_all, df_education_nan, how='left', left_index=True, right_index=True)\n",
    "df_education_merged['percent_of_nan'] = (df_education_merged['education_nan'] /\n",
    "                                         df_education_merged['education_all'] * 100).round(1)\n",
    "df_education_merged"
   ]
  },
  {
   "cell_type": "code",
   "execution_count": 14,
   "metadata": {},
   "outputs": [
    {
     "data": {
      "text/html": [
       "<div>\n",
       "<style scoped>\n",
       "    .dataframe tbody tr th:only-of-type {\n",
       "        vertical-align: middle;\n",
       "    }\n",
       "\n",
       "    .dataframe tbody tr th {\n",
       "        vertical-align: top;\n",
       "    }\n",
       "\n",
       "    .dataframe thead th {\n",
       "        text-align: right;\n",
       "    }\n",
       "</style>\n",
       "<table border=\"1\" class=\"dataframe\">\n",
       "  <thead>\n",
       "    <tr style=\"text-align: right;\">\n",
       "      <th></th>\n",
       "      <th>gender_all</th>\n",
       "      <th>gender_nan</th>\n",
       "      <th>percent_of_nan</th>\n",
       "    </tr>\n",
       "  </thead>\n",
       "  <tbody>\n",
       "    <tr>\n",
       "      <td>F</td>\n",
       "      <td>14236</td>\n",
       "      <td>1484.0</td>\n",
       "      <td>10.4</td>\n",
       "    </tr>\n",
       "    <tr>\n",
       "      <td>M</td>\n",
       "      <td>7288</td>\n",
       "      <td>690.0</td>\n",
       "      <td>9.5</td>\n",
       "    </tr>\n",
       "    <tr>\n",
       "      <td>XNA</td>\n",
       "      <td>1</td>\n",
       "      <td>NaN</td>\n",
       "      <td>NaN</td>\n",
       "    </tr>\n",
       "  </tbody>\n",
       "</table>\n",
       "</div>"
      ],
      "text/plain": [
       "     gender_all  gender_nan  percent_of_nan\n",
       "F         14236      1484.0            10.4\n",
       "M          7288       690.0             9.5\n",
       "XNA           1         NaN             NaN"
      ]
     },
     "execution_count": 14,
     "metadata": {},
     "output_type": "execute_result"
    }
   ],
   "source": [
    "#Определим процент пропущенных значений для каждого пола. \n",
    "df_gender_all = df['gender'].value_counts().rename('gender_all')\n",
    "df_gender_nan = df[df['total_income'].isna()]['gender'].value_counts().rename('gender_nan')\n",
    "df_gender_merged = pd.merge(df_gender_all, df_gender_nan, how='left', left_index=True, right_index=True)\n",
    "df_gender_merged['percent_of_nan'] = (df_gender_merged['gender_nan'] /\n",
    "                                         df_gender_merged['gender_all'] * 100).round(1)\n",
    "df_gender_merged"
   ]
  },
  {
   "cell_type": "markdown",
   "metadata": {},
   "source": [
    "Похоже, что пропуски являются слуйчаными и не связаны со значениями в других столбцах.\n",
    "Пропуски имеются в 2 174 строках, что составляет около 10% строк в датафрейме. Стратегия полного удаления пропусков в данном случае применима, но не желательна.  \n",
    "Заполним пропуски типичными значениями. В случае ежемесячного дохода, предпочтительнее использовать медианное значение, т.к. среднее значение подвержено влияюнию выбросов.\n",
    "Для определения наиболее типичного значения посмотрим на наличие связи между уровнем дохода и такими параметрами, как тип занятости, возраст клиента и уровень образования."
   ]
  },
  {
   "cell_type": "code",
   "execution_count": 15,
   "metadata": {
    "scrolled": true
   },
   "outputs": [
    {
     "data": {
      "text/html": [
       "<div>\n",
       "<style scoped>\n",
       "    .dataframe tbody tr th:only-of-type {\n",
       "        vertical-align: middle;\n",
       "    }\n",
       "\n",
       "    .dataframe tbody tr th {\n",
       "        vertical-align: top;\n",
       "    }\n",
       "\n",
       "    .dataframe thead th {\n",
       "        text-align: right;\n",
       "    }\n",
       "</style>\n",
       "<table border=\"1\" class=\"dataframe\">\n",
       "  <thead>\n",
       "    <tr style=\"text-align: right;\">\n",
       "      <th></th>\n",
       "      <th>count</th>\n",
       "      <th>mean</th>\n",
       "      <th>median</th>\n",
       "    </tr>\n",
       "    <tr>\n",
       "      <th>income_type</th>\n",
       "      <th></th>\n",
       "      <th></th>\n",
       "      <th></th>\n",
       "    </tr>\n",
       "  </thead>\n",
       "  <tbody>\n",
       "    <tr>\n",
       "      <td>предприниматель</td>\n",
       "      <td>1</td>\n",
       "      <td>499163.1</td>\n",
       "      <td>499163.1</td>\n",
       "    </tr>\n",
       "    <tr>\n",
       "      <td>компаньон</td>\n",
       "      <td>4577</td>\n",
       "      <td>202417.5</td>\n",
       "      <td>172358.0</td>\n",
       "    </tr>\n",
       "    <tr>\n",
       "      <td>госслужащий</td>\n",
       "      <td>1312</td>\n",
       "      <td>170898.3</td>\n",
       "      <td>150447.9</td>\n",
       "    </tr>\n",
       "    <tr>\n",
       "      <td>сотрудник</td>\n",
       "      <td>10014</td>\n",
       "      <td>161380.3</td>\n",
       "      <td>142594.4</td>\n",
       "    </tr>\n",
       "    <tr>\n",
       "      <td>безработный</td>\n",
       "      <td>2</td>\n",
       "      <td>131339.8</td>\n",
       "      <td>131339.8</td>\n",
       "    </tr>\n",
       "    <tr>\n",
       "      <td>пенсионер</td>\n",
       "      <td>3443</td>\n",
       "      <td>137127.5</td>\n",
       "      <td>118514.5</td>\n",
       "    </tr>\n",
       "    <tr>\n",
       "      <td>студент</td>\n",
       "      <td>1</td>\n",
       "      <td>98201.6</td>\n",
       "      <td>98201.6</td>\n",
       "    </tr>\n",
       "    <tr>\n",
       "      <td>в декрете</td>\n",
       "      <td>1</td>\n",
       "      <td>53829.1</td>\n",
       "      <td>53829.1</td>\n",
       "    </tr>\n",
       "  </tbody>\n",
       "</table>\n",
       "</div>"
      ],
      "text/plain": [
       "                 count      mean    median\n",
       "income_type                               \n",
       "предприниматель      1  499163.1  499163.1\n",
       "компаньон         4577  202417.5  172358.0\n",
       "госслужащий       1312  170898.3  150447.9\n",
       "сотрудник        10014  161380.3  142594.4\n",
       "безработный          2  131339.8  131339.8\n",
       "пенсионер         3443  137127.5  118514.5\n",
       "студент              1   98201.6   98201.6\n",
       "в декрете            1   53829.1   53829.1"
      ]
     },
     "execution_count": 15,
     "metadata": {},
     "output_type": "execute_result"
    }
   ],
   "source": [
    "#Рассчитаем сгруппированные значения характеристик ежемесячного дохода по типу занятости\n",
    "df.groupby('income_type')['total_income'].agg(['count','mean','median']).sort_values('median', ascending=False).round(1)"
   ]
  },
  {
   "cell_type": "code",
   "execution_count": 16,
   "metadata": {
    "scrolled": true
   },
   "outputs": [
    {
     "data": {
      "text/html": [
       "<div>\n",
       "<style scoped>\n",
       "    .dataframe tbody tr th:only-of-type {\n",
       "        vertical-align: middle;\n",
       "    }\n",
       "\n",
       "    .dataframe tbody tr th {\n",
       "        vertical-align: top;\n",
       "    }\n",
       "\n",
       "    .dataframe thead th {\n",
       "        text-align: right;\n",
       "    }\n",
       "</style>\n",
       "<table border=\"1\" class=\"dataframe\">\n",
       "  <thead>\n",
       "    <tr style=\"text-align: right;\">\n",
       "      <th></th>\n",
       "      <th>count</th>\n",
       "      <th>mean</th>\n",
       "      <th>median</th>\n",
       "    </tr>\n",
       "    <tr>\n",
       "      <th>age</th>\n",
       "      <th></th>\n",
       "      <th></th>\n",
       "      <th></th>\n",
       "    </tr>\n",
       "  </thead>\n",
       "  <tbody>\n",
       "    <tr>\n",
       "      <td>37</td>\n",
       "      <td>484</td>\n",
       "      <td>183334.9</td>\n",
       "      <td>160434.1</td>\n",
       "    </tr>\n",
       "    <tr>\n",
       "      <td>42</td>\n",
       "      <td>532</td>\n",
       "      <td>184711.0</td>\n",
       "      <td>159168.0</td>\n",
       "    </tr>\n",
       "    <tr>\n",
       "      <td>48</td>\n",
       "      <td>492</td>\n",
       "      <td>177231.2</td>\n",
       "      <td>158989.3</td>\n",
       "    </tr>\n",
       "    <tr>\n",
       "      <td>36</td>\n",
       "      <td>492</td>\n",
       "      <td>182428.9</td>\n",
       "      <td>158681.5</td>\n",
       "    </tr>\n",
       "    <tr>\n",
       "      <td>40</td>\n",
       "      <td>543</td>\n",
       "      <td>176353.7</td>\n",
       "      <td>158350.1</td>\n",
       "    </tr>\n",
       "    <tr>\n",
       "      <td>46</td>\n",
       "      <td>427</td>\n",
       "      <td>186505.6</td>\n",
       "      <td>157436.1</td>\n",
       "    </tr>\n",
       "    <tr>\n",
       "      <td>33</td>\n",
       "      <td>530</td>\n",
       "      <td>181604.7</td>\n",
       "      <td>156538.8</td>\n",
       "    </tr>\n",
       "    <tr>\n",
       "      <td>35</td>\n",
       "      <td>553</td>\n",
       "      <td>177914.0</td>\n",
       "      <td>156145.4</td>\n",
       "    </tr>\n",
       "    <tr>\n",
       "      <td>34</td>\n",
       "      <td>534</td>\n",
       "      <td>178092.1</td>\n",
       "      <td>155359.0</td>\n",
       "    </tr>\n",
       "    <tr>\n",
       "      <td>27</td>\n",
       "      <td>457</td>\n",
       "      <td>177110.5</td>\n",
       "      <td>154429.2</td>\n",
       "    </tr>\n",
       "    <tr>\n",
       "      <td>45</td>\n",
       "      <td>447</td>\n",
       "      <td>173600.4</td>\n",
       "      <td>154147.6</td>\n",
       "    </tr>\n",
       "    <tr>\n",
       "      <td>49</td>\n",
       "      <td>458</td>\n",
       "      <td>176097.4</td>\n",
       "      <td>153687.2</td>\n",
       "    </tr>\n",
       "    <tr>\n",
       "      <td>75</td>\n",
       "      <td>1</td>\n",
       "      <td>153282.6</td>\n",
       "      <td>153282.6</td>\n",
       "    </tr>\n",
       "    <tr>\n",
       "      <td>47</td>\n",
       "      <td>421</td>\n",
       "      <td>169281.6</td>\n",
       "      <td>153097.9</td>\n",
       "    </tr>\n",
       "    <tr>\n",
       "      <td>0</td>\n",
       "      <td>91</td>\n",
       "      <td>158338.0</td>\n",
       "      <td>152419.2</td>\n",
       "    </tr>\n",
       "    <tr>\n",
       "      <td>44</td>\n",
       "      <td>503</td>\n",
       "      <td>177817.4</td>\n",
       "      <td>152302.9</td>\n",
       "    </tr>\n",
       "    <tr>\n",
       "      <td>43</td>\n",
       "      <td>463</td>\n",
       "      <td>184750.8</td>\n",
       "      <td>151773.9</td>\n",
       "    </tr>\n",
       "    <tr>\n",
       "      <td>38</td>\n",
       "      <td>544</td>\n",
       "      <td>168196.9</td>\n",
       "      <td>151466.7</td>\n",
       "    </tr>\n",
       "    <tr>\n",
       "      <td>32</td>\n",
       "      <td>473</td>\n",
       "      <td>167407.5</td>\n",
       "      <td>151253.9</td>\n",
       "    </tr>\n",
       "    <tr>\n",
       "      <td>28</td>\n",
       "      <td>446</td>\n",
       "      <td>164685.1</td>\n",
       "      <td>149663.1</td>\n",
       "    </tr>\n",
       "    <tr>\n",
       "      <td>39</td>\n",
       "      <td>522</td>\n",
       "      <td>184250.7</td>\n",
       "      <td>149429.2</td>\n",
       "    </tr>\n",
       "    <tr>\n",
       "      <td>31</td>\n",
       "      <td>495</td>\n",
       "      <td>173887.3</td>\n",
       "      <td>148728.8</td>\n",
       "    </tr>\n",
       "    <tr>\n",
       "      <td>41</td>\n",
       "      <td>548</td>\n",
       "      <td>177454.9</td>\n",
       "      <td>148563.2</td>\n",
       "    </tr>\n",
       "    <tr>\n",
       "      <td>30</td>\n",
       "      <td>482</td>\n",
       "      <td>171970.3</td>\n",
       "      <td>146944.7</td>\n",
       "    </tr>\n",
       "    <tr>\n",
       "      <td>29</td>\n",
       "      <td>495</td>\n",
       "      <td>169246.4</td>\n",
       "      <td>146617.6</td>\n",
       "    </tr>\n",
       "    <tr>\n",
       "      <td>26</td>\n",
       "      <td>373</td>\n",
       "      <td>157955.8</td>\n",
       "      <td>145457.1</td>\n",
       "    </tr>\n",
       "    <tr>\n",
       "      <td>51</td>\n",
       "      <td>398</td>\n",
       "      <td>170219.3</td>\n",
       "      <td>145132.4</td>\n",
       "    </tr>\n",
       "    <tr>\n",
       "      <td>25</td>\n",
       "      <td>334</td>\n",
       "      <td>157572.3</td>\n",
       "      <td>143119.4</td>\n",
       "    </tr>\n",
       "    <tr>\n",
       "      <td>50</td>\n",
       "      <td>463</td>\n",
       "      <td>165649.4</td>\n",
       "      <td>142125.4</td>\n",
       "    </tr>\n",
       "    <tr>\n",
       "      <td>52</td>\n",
       "      <td>431</td>\n",
       "      <td>168032.5</td>\n",
       "      <td>142054.7</td>\n",
       "    </tr>\n",
       "    <tr>\n",
       "      <td>53</td>\n",
       "      <td>415</td>\n",
       "      <td>167540.4</td>\n",
       "      <td>140999.1</td>\n",
       "    </tr>\n",
       "    <tr>\n",
       "      <td>24</td>\n",
       "      <td>243</td>\n",
       "      <td>150446.1</td>\n",
       "      <td>140402.5</td>\n",
       "    </tr>\n",
       "    <tr>\n",
       "      <td>56</td>\n",
       "      <td>433</td>\n",
       "      <td>161652.1</td>\n",
       "      <td>139119.7</td>\n",
       "    </tr>\n",
       "    <tr>\n",
       "      <td>57</td>\n",
       "      <td>404</td>\n",
       "      <td>155360.5</td>\n",
       "      <td>138103.7</td>\n",
       "    </tr>\n",
       "    <tr>\n",
       "      <td>54</td>\n",
       "      <td>424</td>\n",
       "      <td>156215.9</td>\n",
       "      <td>136923.2</td>\n",
       "    </tr>\n",
       "    <tr>\n",
       "      <td>59</td>\n",
       "      <td>410</td>\n",
       "      <td>154988.4</td>\n",
       "      <td>136854.8</td>\n",
       "    </tr>\n",
       "    <tr>\n",
       "      <td>58</td>\n",
       "      <td>405</td>\n",
       "      <td>157405.4</td>\n",
       "      <td>134163.2</td>\n",
       "    </tr>\n",
       "    <tr>\n",
       "      <td>64</td>\n",
       "      <td>228</td>\n",
       "      <td>161777.5</td>\n",
       "      <td>133576.2</td>\n",
       "    </tr>\n",
       "    <tr>\n",
       "      <td>55</td>\n",
       "      <td>395</td>\n",
       "      <td>155247.6</td>\n",
       "      <td>133122.9</td>\n",
       "    </tr>\n",
       "    <tr>\n",
       "      <td>62</td>\n",
       "      <td>314</td>\n",
       "      <td>148841.5</td>\n",
       "      <td>132382.9</td>\n",
       "    </tr>\n",
       "    <tr>\n",
       "      <td>61</td>\n",
       "      <td>317</td>\n",
       "      <td>151922.1</td>\n",
       "      <td>128936.5</td>\n",
       "    </tr>\n",
       "    <tr>\n",
       "      <td>21</td>\n",
       "      <td>93</td>\n",
       "      <td>143629.8</td>\n",
       "      <td>128265.7</td>\n",
       "    </tr>\n",
       "    <tr>\n",
       "      <td>60</td>\n",
       "      <td>338</td>\n",
       "      <td>142604.3</td>\n",
       "      <td>126161.0</td>\n",
       "    </tr>\n",
       "    <tr>\n",
       "      <td>22</td>\n",
       "      <td>166</td>\n",
       "      <td>139840.7</td>\n",
       "      <td>123995.9</td>\n",
       "    </tr>\n",
       "    <tr>\n",
       "      <td>63</td>\n",
       "      <td>240</td>\n",
       "      <td>143097.5</td>\n",
       "      <td>123952.3</td>\n",
       "    </tr>\n",
       "    <tr>\n",
       "      <td>23</td>\n",
       "      <td>218</td>\n",
       "      <td>138463.2</td>\n",
       "      <td>123162.8</td>\n",
       "    </tr>\n",
       "    <tr>\n",
       "      <td>71</td>\n",
       "      <td>53</td>\n",
       "      <td>129185.9</td>\n",
       "      <td>122934.3</td>\n",
       "    </tr>\n",
       "    <tr>\n",
       "      <td>65</td>\n",
       "      <td>174</td>\n",
       "      <td>151717.5</td>\n",
       "      <td>122934.2</td>\n",
       "    </tr>\n",
       "    <tr>\n",
       "      <td>73</td>\n",
       "      <td>7</td>\n",
       "      <td>114983.7</td>\n",
       "      <td>119190.5</td>\n",
       "    </tr>\n",
       "    <tr>\n",
       "      <td>70</td>\n",
       "      <td>62</td>\n",
       "      <td>131220.8</td>\n",
       "      <td>118062.3</td>\n",
       "    </tr>\n",
       "    <tr>\n",
       "      <td>68</td>\n",
       "      <td>90</td>\n",
       "      <td>126513.4</td>\n",
       "      <td>113208.4</td>\n",
       "    </tr>\n",
       "    <tr>\n",
       "      <td>67</td>\n",
       "      <td>151</td>\n",
       "      <td>137933.2</td>\n",
       "      <td>112656.0</td>\n",
       "    </tr>\n",
       "    <tr>\n",
       "      <td>66</td>\n",
       "      <td>163</td>\n",
       "      <td>131718.9</td>\n",
       "      <td>111673.5</td>\n",
       "    </tr>\n",
       "    <tr>\n",
       "      <td>72</td>\n",
       "      <td>31</td>\n",
       "      <td>118821.3</td>\n",
       "      <td>110985.5</td>\n",
       "    </tr>\n",
       "    <tr>\n",
       "      <td>20</td>\n",
       "      <td>46</td>\n",
       "      <td>126993.3</td>\n",
       "      <td>109502.1</td>\n",
       "    </tr>\n",
       "    <tr>\n",
       "      <td>69</td>\n",
       "      <td>80</td>\n",
       "      <td>124100.1</td>\n",
       "      <td>104313.0</td>\n",
       "    </tr>\n",
       "    <tr>\n",
       "      <td>19</td>\n",
       "      <td>13</td>\n",
       "      <td>106212.1</td>\n",
       "      <td>93343.1</td>\n",
       "    </tr>\n",
       "    <tr>\n",
       "      <td>74</td>\n",
       "      <td>6</td>\n",
       "      <td>83580.5</td>\n",
       "      <td>76850.3</td>\n",
       "    </tr>\n",
       "  </tbody>\n",
       "</table>\n",
       "</div>"
      ],
      "text/plain": [
       "     count      mean    median\n",
       "age                           \n",
       "37     484  183334.9  160434.1\n",
       "42     532  184711.0  159168.0\n",
       "48     492  177231.2  158989.3\n",
       "36     492  182428.9  158681.5\n",
       "40     543  176353.7  158350.1\n",
       "46     427  186505.6  157436.1\n",
       "33     530  181604.7  156538.8\n",
       "35     553  177914.0  156145.4\n",
       "34     534  178092.1  155359.0\n",
       "27     457  177110.5  154429.2\n",
       "45     447  173600.4  154147.6\n",
       "49     458  176097.4  153687.2\n",
       "75       1  153282.6  153282.6\n",
       "47     421  169281.6  153097.9\n",
       "0       91  158338.0  152419.2\n",
       "44     503  177817.4  152302.9\n",
       "43     463  184750.8  151773.9\n",
       "38     544  168196.9  151466.7\n",
       "32     473  167407.5  151253.9\n",
       "28     446  164685.1  149663.1\n",
       "39     522  184250.7  149429.2\n",
       "31     495  173887.3  148728.8\n",
       "41     548  177454.9  148563.2\n",
       "30     482  171970.3  146944.7\n",
       "29     495  169246.4  146617.6\n",
       "26     373  157955.8  145457.1\n",
       "51     398  170219.3  145132.4\n",
       "25     334  157572.3  143119.4\n",
       "50     463  165649.4  142125.4\n",
       "52     431  168032.5  142054.7\n",
       "53     415  167540.4  140999.1\n",
       "24     243  150446.1  140402.5\n",
       "56     433  161652.1  139119.7\n",
       "57     404  155360.5  138103.7\n",
       "54     424  156215.9  136923.2\n",
       "59     410  154988.4  136854.8\n",
       "58     405  157405.4  134163.2\n",
       "64     228  161777.5  133576.2\n",
       "55     395  155247.6  133122.9\n",
       "62     314  148841.5  132382.9\n",
       "61     317  151922.1  128936.5\n",
       "21      93  143629.8  128265.7\n",
       "60     338  142604.3  126161.0\n",
       "22     166  139840.7  123995.9\n",
       "63     240  143097.5  123952.3\n",
       "23     218  138463.2  123162.8\n",
       "71      53  129185.9  122934.3\n",
       "65     174  151717.5  122934.2\n",
       "73       7  114983.7  119190.5\n",
       "70      62  131220.8  118062.3\n",
       "68      90  126513.4  113208.4\n",
       "67     151  137933.2  112656.0\n",
       "66     163  131718.9  111673.5\n",
       "72      31  118821.3  110985.5\n",
       "20      46  126993.3  109502.1\n",
       "69      80  124100.1  104313.0\n",
       "19      13  106212.1   93343.1\n",
       "74       6   83580.5   76850.3"
      ]
     },
     "execution_count": 16,
     "metadata": {},
     "output_type": "execute_result"
    }
   ],
   "source": [
    "#Рассчитаем сгруппированные значения ежемесячного дохода по возрасту\n",
    "df.groupby('age')['total_income'].agg(['count','mean','median']).sort_values('median', ascending=False).round(1)"
   ]
  },
  {
   "cell_type": "code",
   "execution_count": 17,
   "metadata": {
    "scrolled": true
   },
   "outputs": [
    {
     "data": {
      "text/html": [
       "<div>\n",
       "<style scoped>\n",
       "    .dataframe tbody tr th:only-of-type {\n",
       "        vertical-align: middle;\n",
       "    }\n",
       "\n",
       "    .dataframe tbody tr th {\n",
       "        vertical-align: top;\n",
       "    }\n",
       "\n",
       "    .dataframe thead th {\n",
       "        text-align: right;\n",
       "    }\n",
       "</style>\n",
       "<table border=\"1\" class=\"dataframe\">\n",
       "  <thead>\n",
       "    <tr style=\"text-align: right;\">\n",
       "      <th></th>\n",
       "      <th>count</th>\n",
       "      <th>mean</th>\n",
       "      <th>median</th>\n",
       "    </tr>\n",
       "    <tr>\n",
       "      <th>education</th>\n",
       "      <th></th>\n",
       "      <th></th>\n",
       "      <th></th>\n",
       "    </tr>\n",
       "  </thead>\n",
       "  <tbody>\n",
       "    <tr>\n",
       "      <td>УЧЕНАЯ СТЕПЕНЬ</td>\n",
       "      <td>1</td>\n",
       "      <td>198570.8</td>\n",
       "      <td>198570.8</td>\n",
       "    </tr>\n",
       "    <tr>\n",
       "      <td>ученая степень</td>\n",
       "      <td>4</td>\n",
       "      <td>187794.4</td>\n",
       "      <td>185687.1</td>\n",
       "    </tr>\n",
       "    <tr>\n",
       "      <td>Высшее</td>\n",
       "      <td>243</td>\n",
       "      <td>215199.7</td>\n",
       "      <td>180720.7</td>\n",
       "    </tr>\n",
       "    <tr>\n",
       "      <td>высшее</td>\n",
       "      <td>4222</td>\n",
       "      <td>207108.3</td>\n",
       "      <td>175625.3</td>\n",
       "    </tr>\n",
       "    <tr>\n",
       "      <td>ВЫСШЕЕ</td>\n",
       "      <td>251</td>\n",
       "      <td>199917.9</td>\n",
       "      <td>167242.2</td>\n",
       "    </tr>\n",
       "    <tr>\n",
       "      <td>НЕОКОНЧЕННОЕ ВЫСШЕЕ</td>\n",
       "      <td>22</td>\n",
       "      <td>176496.6</td>\n",
       "      <td>163911.6</td>\n",
       "    </tr>\n",
       "    <tr>\n",
       "      <td>Неоконченное высшее</td>\n",
       "      <td>40</td>\n",
       "      <td>159188.4</td>\n",
       "      <td>160402.5</td>\n",
       "    </tr>\n",
       "    <tr>\n",
       "      <td>неоконченное высшее</td>\n",
       "      <td>613</td>\n",
       "      <td>183172.9</td>\n",
       "      <td>159780.9</td>\n",
       "    </tr>\n",
       "    <tr>\n",
       "      <td>среднее</td>\n",
       "      <td>12342</td>\n",
       "      <td>153853.3</td>\n",
       "      <td>136643.3</td>\n",
       "    </tr>\n",
       "    <tr>\n",
       "      <td>Среднее</td>\n",
       "      <td>646</td>\n",
       "      <td>153693.4</td>\n",
       "      <td>135105.8</td>\n",
       "    </tr>\n",
       "    <tr>\n",
       "      <td>СРЕДНЕЕ</td>\n",
       "      <td>705</td>\n",
       "      <td>151325.9</td>\n",
       "      <td>134305.8</td>\n",
       "    </tr>\n",
       "    <tr>\n",
       "      <td>НАЧАЛЬНОЕ</td>\n",
       "      <td>16</td>\n",
       "      <td>153573.3</td>\n",
       "      <td>129666.9</td>\n",
       "    </tr>\n",
       "    <tr>\n",
       "      <td>начальное</td>\n",
       "      <td>231</td>\n",
       "      <td>131968.9</td>\n",
       "      <td>117314.5</td>\n",
       "    </tr>\n",
       "    <tr>\n",
       "      <td>Начальное</td>\n",
       "      <td>14</td>\n",
       "      <td>110757.2</td>\n",
       "      <td>104570.4</td>\n",
       "    </tr>\n",
       "    <tr>\n",
       "      <td>Ученая степень</td>\n",
       "      <td>1</td>\n",
       "      <td>98752.5</td>\n",
       "      <td>98752.5</td>\n",
       "    </tr>\n",
       "  </tbody>\n",
       "</table>\n",
       "</div>"
      ],
      "text/plain": [
       "                     count      mean    median\n",
       "education                                     \n",
       "УЧЕНАЯ СТЕПЕНЬ           1  198570.8  198570.8\n",
       "ученая степень           4  187794.4  185687.1\n",
       "Высшее                 243  215199.7  180720.7\n",
       "высшее                4222  207108.3  175625.3\n",
       "ВЫСШЕЕ                 251  199917.9  167242.2\n",
       "НЕОКОНЧЕННОЕ ВЫСШЕЕ     22  176496.6  163911.6\n",
       "Неоконченное высшее     40  159188.4  160402.5\n",
       "неоконченное высшее    613  183172.9  159780.9\n",
       "среднее              12342  153853.3  136643.3\n",
       "Среднее                646  153693.4  135105.8\n",
       "СРЕДНЕЕ                705  151325.9  134305.8\n",
       "НАЧАЛЬНОЕ               16  153573.3  129666.9\n",
       "начальное              231  131968.9  117314.5\n",
       "Начальное               14  110757.2  104570.4\n",
       "Ученая степень           1   98752.5   98752.5"
      ]
     },
     "execution_count": 17,
     "metadata": {},
     "output_type": "execute_result"
    }
   ],
   "source": [
    "#Рассчитаем сгруппированные значения ежемесячного дохода по уровню образования\n",
    "df.groupby('education')['total_income'].agg(['count','mean','median']).sort_values('median', ascending=False).round(1)"
   ]
  },
  {
   "cell_type": "markdown",
   "metadata": {},
   "source": [
    "Видно, что существует взаимосвязь уровня дохода со всеми признаками, которые мы рассмотрели. Типичное значение можно определить используя медианное значение столбца в целом, однако правильнее это будет сделать на основе какого-либо из рассмотренных параметров или их комбинации (при этом при использовании возраста необходимо провести категоризацию признака и выделить укрупненные диапазоны, при использовании уровня образования необходимо обработать дубли). Для простоты используем тип занятости."
   ]
  },
  {
   "cell_type": "code",
   "execution_count": 18,
   "metadata": {},
   "outputs": [
    {
     "data": {
      "text/plain": [
       "income_type\n",
       "безработный        131339.751676\n",
       "в декрете           53829.130729\n",
       "госслужащий        150447.935283\n",
       "компаньон          172357.950966\n",
       "пенсионер          118514.486412\n",
       "предприниматель    499163.144947\n",
       "сотрудник          142594.396847\n",
       "студент             98201.625314\n",
       "Name: total_income_median, dtype: float64"
      ]
     },
     "execution_count": 18,
     "metadata": {},
     "output_type": "execute_result"
    }
   ],
   "source": [
    "#Сгруппируем данные по типовым значениям дохода для различных типов занятости\n",
    "df_group_income = df.groupby('income_type')['total_income'].median().rename('total_income_median')\n",
    "df_group_income"
   ]
  },
  {
   "cell_type": "code",
   "execution_count": 19,
   "metadata": {},
   "outputs": [],
   "source": [
    "#Удалим строку с пропуском по типу занятости 'предприниматель',\n",
    "#т.к. данный тип единичен и не может быть охарактеризован типичным значением\n",
    "df = df.drop(df[(df['income_type'] == 'предприниматель') & (df['total_income'].isna())].index)"
   ]
  },
  {
   "cell_type": "code",
   "execution_count": 20,
   "metadata": {},
   "outputs": [],
   "source": [
    "#Создадим столбец 'total_income_median' в исходном датафрейме с типовыми значениями \n",
    "df = df.merge(df_group_income, how='left', on = 'income_type')\n",
    "#заполним данными из столбца 'total_income_median' пустые значения столбца 'total_income'\n",
    "df['total_income'].fillna(df['total_income_median'], inplace=True)\n",
    "#и удалим столбец 'total_income_median', т.к. он больше не нужен\n",
    "df.drop('total_income_median', axis=1, inplace=True)"
   ]
  },
  {
   "cell_type": "code",
   "execution_count": 21,
   "metadata": {},
   "outputs": [
    {
     "data": {
      "text/plain": [
       "0"
      ]
     },
     "execution_count": 21,
     "metadata": {},
     "output_type": "execute_result"
    }
   ],
   "source": [
    "#Проверим отсутствие пропусков в столбце'total_income'\n",
    "df['total_income'].isna().sum()"
   ]
  },
  {
   "cell_type": "markdown",
   "metadata": {},
   "source": [
    "На этапе изучения общей информации мы определили, что столбец `days_employed` содержит отрицательные значения трудового стажа, а также нереалистичные значения, превышающие 1000 лет. Проанализируем столбец подробнее"
   ]
  },
  {
   "cell_type": "code",
   "execution_count": 22,
   "metadata": {},
   "outputs": [
    {
     "data": {
      "text/plain": [
       "15906"
      ]
     },
     "execution_count": 22,
     "metadata": {},
     "output_type": "execute_result"
    }
   ],
   "source": [
    "#Количество отрицательных значений\n",
    "df[df['days_employed'] < 0]['days_employed'].count()"
   ]
  },
  {
   "cell_type": "code",
   "execution_count": 23,
   "metadata": {},
   "outputs": [
    {
     "data": {
      "text/plain": [
       "count      3445.000000\n",
       "mean     365004.309916\n",
       "std       21075.016396\n",
       "min      328728.720605\n",
       "25%      346639.413916\n",
       "50%      365213.306266\n",
       "75%      383246.444219\n",
       "max      401755.400475\n",
       "Name: days_employed, dtype: float64"
      ]
     },
     "execution_count": 23,
     "metadata": {},
     "output_type": "execute_result"
    }
   ],
   "source": [
    "#Статистика по положительным значениям\n",
    "df[df['days_employed'] > 0]['days_employed'].describe()"
   ]
  },
  {
   "cell_type": "markdown",
   "metadata": {},
   "source": [
    "Таким образом, большая часть столбца `days_employed` заполнена отрицательными значениями, а положительные значения трудового стажа находятся в интервале от 900 до 1100 лет. Данный столбец лучше удалить из наших данных"
   ]
  },
  {
   "cell_type": "code",
   "execution_count": 24,
   "metadata": {},
   "outputs": [],
   "source": [
    "df.drop('days_employed', axis=1, inplace=True)"
   ]
  },
  {
   "cell_type": "code",
   "execution_count": 25,
   "metadata": {},
   "outputs": [
    {
     "data": {
      "text/plain": [
       "children            0\n",
       "age                 0\n",
       "education           0\n",
       "education_id        0\n",
       "family_status       0\n",
       "family_status_id    0\n",
       "gender              0\n",
       "income_type         0\n",
       "debt                0\n",
       "total_income        0\n",
       "purpose             0\n",
       "dtype: int64"
      ]
     },
     "execution_count": 25,
     "metadata": {},
     "output_type": "execute_result"
    }
   ],
   "source": [
    "#Проверим отсутствие пропусков в очищенном датафрейме\n",
    "df.isna().sum()"
   ]
  },
  {
   "cell_type": "markdown",
   "metadata": {},
   "source": [
    "Проанализируем и обработаем остальные обнаруженные нами неявные пропуски и некорректные значения.  \n",
    "Начнем со столбца `children`"
   ]
  },
  {
   "cell_type": "code",
   "execution_count": 26,
   "metadata": {},
   "outputs": [
    {
     "data": {
      "text/plain": [
       " 0     14148\n",
       " 1      4818\n",
       " 2      2055\n",
       " 3       330\n",
       " 20       76\n",
       "-1        47\n",
       " 4        41\n",
       " 5         9\n",
       "Name: children, dtype: int64"
      ]
     },
     "execution_count": 26,
     "metadata": {},
     "output_type": "execute_result"
    }
   ],
   "source": [
    "df['children'].value_counts()"
   ]
  },
  {
   "cell_type": "markdown",
   "metadata": {},
   "source": [
    "Столбец с количеством детей содержит 47 строк со значением (-1). Возможно ошибочно проставлен знак \"минус\". Однако выяснить это мы не можем, а процент отрицательных значений составляет около  0,2% от общего количества строк, поэтому удаление этих строк будет приемлимым решением в данном случае.  \n",
    "Обращает внимание также факт наличия в таблице данных о семьях с 20 детьми. Это вероятно также ошибочные данные, семьи с 20 детьми были бы уникальными, единичными случаями, а в нашем датафрейми их количество - 76, что превышает количество семей с четырьмя и пятью детьми. При этом в таблице нет данных о семьях с количеством детей от 6 до 19. Возможно таким образом были сгруппированы семьи с количеством детей более пяти или ошибочно появился лишний ноль после значения 2. В документации информации об этом нет, возможность уточнить также отсутствует. Примем решение об удалении этих строк. Процент таких строк составялет около 0,3% от общего количества."
   ]
  },
  {
   "cell_type": "code",
   "execution_count": 27,
   "metadata": {},
   "outputs": [],
   "source": [
    "df = df.drop(df[(df['children'] == -1) | (df['children'] == 20)].index)"
   ]
  },
  {
   "cell_type": "code",
   "execution_count": 28,
   "metadata": {},
   "outputs": [
    {
     "data": {
      "text/plain": [
       "0    14148\n",
       "1     4818\n",
       "2     2055\n",
       "3      330\n",
       "4       41\n",
       "5        9\n",
       "Name: children, dtype: int64"
      ]
     },
     "execution_count": 28,
     "metadata": {},
     "output_type": "execute_result"
    }
   ],
   "source": [
    "df['children'].value_counts()"
   ]
  },
  {
   "cell_type": "markdown",
   "metadata": {},
   "source": [
    "При изучении общей информации по данным было замечено, что возраст заемщиков содержит нулевые значения. Проанализируем столбец `age` подробнее"
   ]
  },
  {
   "cell_type": "code",
   "execution_count": 29,
   "metadata": {
    "scrolled": true
   },
   "outputs": [
    {
     "data": {
      "text/plain": [
       "0     100\n",
       "19     14\n",
       "20     51\n",
       "21    110\n",
       "22    183\n",
       "23    252\n",
       "24    263\n",
       "25    356\n",
       "26    406\n",
       "27    490\n",
       "28    501\n",
       "29    543\n",
       "30    536\n",
       "31    556\n",
       "32    506\n",
       "33    577\n",
       "34    597\n",
       "35    614\n",
       "36    553\n",
       "37    531\n",
       "38    595\n",
       "39    572\n",
       "40    603\n",
       "41    603\n",
       "42    592\n",
       "43    510\n",
       "44    543\n",
       "45    494\n",
       "46    469\n",
       "47    480\n",
       "48    536\n",
       "49    505\n",
       "50    509\n",
       "51    446\n",
       "52    483\n",
       "53    457\n",
       "54    476\n",
       "55    441\n",
       "56    482\n",
       "57    457\n",
       "58    460\n",
       "59    441\n",
       "60    376\n",
       "61    353\n",
       "62    351\n",
       "63    268\n",
       "64    263\n",
       "65    194\n",
       "66    183\n",
       "67    167\n",
       "68     99\n",
       "69     83\n",
       "70     65\n",
       "71     58\n",
       "72     33\n",
       "73      8\n",
       "74      6\n",
       "75      1\n",
       "Name: age, dtype: int64"
      ]
     },
     "execution_count": 29,
     "metadata": {},
     "output_type": "execute_result"
    }
   ],
   "source": [
    "df['age'].value_counts().sort_index()"
   ]
  },
  {
   "cell_type": "markdown",
   "metadata": {},
   "source": [
    "В столбце `dob_years` содержится 100 нулевых значения, других выбивающихся значений в столбце нет. Количество строк с нулевым возрастом сравнительно небольшое по отношению к объему датасета, вероятно это отсутствующие значения заполнены таким образом, удалим эти строки, т.к. возраст представляется важным прогностическим признаком и заполнение его типичными значениями может привести к снижению точности модели кредитного скорринга."
   ]
  },
  {
   "cell_type": "code",
   "execution_count": 30,
   "metadata": {},
   "outputs": [],
   "source": [
    "df = df.drop(df[df['age'] == 0].index)"
   ]
  },
  {
   "cell_type": "code",
   "execution_count": 31,
   "metadata": {},
   "outputs": [
    {
     "data": {
      "text/plain": [
       "0"
      ]
     },
     "execution_count": 31,
     "metadata": {},
     "output_type": "execute_result"
    }
   ],
   "source": [
    "df[df['age'] == 0]['age'].count()"
   ]
  },
  {
   "cell_type": "markdown",
   "metadata": {},
   "source": [
    "Рассмотрим столбец с полом клиентов"
   ]
  },
  {
   "cell_type": "code",
   "execution_count": 32,
   "metadata": {},
   "outputs": [
    {
     "data": {
      "text/plain": [
       "F      14083\n",
       "M       7217\n",
       "XNA        1\n",
       "Name: gender, dtype: int64"
      ]
     },
     "execution_count": 32,
     "metadata": {},
     "output_type": "execute_result"
    }
   ],
   "source": [
    "df['gender'].value_counts()"
   ]
  },
  {
   "cell_type": "markdown",
   "metadata": {},
   "source": [
    "Имеется всего один пропуск в столбце `gender`, удалим эту строку."
   ]
  },
  {
   "cell_type": "code",
   "execution_count": 33,
   "metadata": {},
   "outputs": [],
   "source": [
    "df = df.drop(df[df['gender'] == 'XNA'].index)"
   ]
  },
  {
   "cell_type": "code",
   "execution_count": 34,
   "metadata": {},
   "outputs": [
    {
     "data": {
      "text/plain": [
       "F    14083\n",
       "M     7217\n",
       "Name: gender, dtype: int64"
      ]
     },
     "execution_count": 34,
     "metadata": {},
     "output_type": "execute_result"
    }
   ],
   "source": [
    "df['gender'].value_counts()"
   ]
  },
  {
   "cell_type": "code",
   "execution_count": 35,
   "metadata": {},
   "outputs": [
    {
     "name": "stdout",
     "output_type": "stream",
     "text": [
      "<class 'pandas.core.frame.DataFrame'>\n",
      "Int64Index: 21300 entries, 0 to 21523\n",
      "Data columns (total 11 columns):\n",
      "children            21300 non-null int64\n",
      "age                 21300 non-null int64\n",
      "education           21300 non-null object\n",
      "education_id        21300 non-null int64\n",
      "family_status       21300 non-null object\n",
      "family_status_id    21300 non-null int64\n",
      "gender              21300 non-null object\n",
      "income_type         21300 non-null object\n",
      "debt                21300 non-null int64\n",
      "total_income        21300 non-null float64\n",
      "purpose             21300 non-null object\n",
      "dtypes: float64(1), int64(5), object(5)\n",
      "memory usage: 2.0+ MB\n"
     ]
    }
   ],
   "source": [
    "#Общая информация по датафрейму после обработки всех пропусков и некорректных значений\n",
    "df.info()"
   ]
  },
  {
   "cell_type": "markdown",
   "metadata": {},
   "source": [
    "**Вывод**"
   ]
  },
  {
   "cell_type": "markdown",
   "metadata": {},
   "source": [
    "В ходе этапа по обработке пропусков были выполнены следующие операции очистки данных:  \n",
    " * пропуски в столбце с ежемесячным доходом заполнены типичными (медианными) значениями в зависимости от типа занятости клиента,\n",
    " * столбец с трудовым стажем полностью удален из датасета вследствие наличия разнотипных ошибок и практически полной непригодности для обработки,\n",
    " * удалены строки содержащие ошибочные данные в столбцах с количеством детей, полом и возрастом.  \n",
    "\n",
    "Количество строк в очищенном датасте составляет 21 300, что на 225 строк меньше изначальной таблицы, т.е. был удален примерно 1% данных."
   ]
  },
  {
   "cell_type": "markdown",
   "metadata": {},
   "source": [
    "### Замена типа данных"
   ]
  },
  {
   "cell_type": "code",
   "execution_count": 36,
   "metadata": {},
   "outputs": [
    {
     "data": {
      "text/plain": [
       "children              int64\n",
       "age                   int64\n",
       "education            object\n",
       "education_id          int64\n",
       "family_status        object\n",
       "family_status_id      int64\n",
       "gender               object\n",
       "income_type          object\n",
       "debt                  int64\n",
       "total_income        float64\n",
       "purpose              object\n",
       "dtype: object"
      ]
     },
     "execution_count": 36,
     "metadata": {},
     "output_type": "execute_result"
    }
   ],
   "source": [
    "# Типы данных по столбцам\n",
    "df.dtypes"
   ]
  },
  {
   "cell_type": "markdown",
   "metadata": {},
   "source": [
    "В данных остался один столбец `total_income` с вещественным типом данных, потребности в высокой точности и сохранения дробной части числа у нас нет, для удобства преобразуем столбец в целичисленный тип."
   ]
  },
  {
   "cell_type": "code",
   "execution_count": 37,
   "metadata": {},
   "outputs": [
    {
     "data": {
      "text/plain": [
       "dtype('int32')"
      ]
     },
     "execution_count": 37,
     "metadata": {},
     "output_type": "execute_result"
    }
   ],
   "source": [
    "df['total_income'] = df['total_income'].astype(int)\n",
    "df['total_income'].dtypes"
   ]
  },
  {
   "cell_type": "markdown",
   "metadata": {},
   "source": [
    "**Вывод**"
   ]
  },
  {
   "cell_type": "markdown",
   "metadata": {},
   "source": [
    "Тип данных столбца с ежемесячным доходом заемщиков преобразован с вещественного на целочисленный."
   ]
  },
  {
   "cell_type": "markdown",
   "metadata": {},
   "source": [
    "### Обработка дубликатов"
   ]
  },
  {
   "cell_type": "markdown",
   "metadata": {},
   "source": [
    "Определим количество и удалим строки с полными дублями в данных"
   ]
  },
  {
   "cell_type": "code",
   "execution_count": 38,
   "metadata": {},
   "outputs": [
    {
     "data": {
      "text/plain": [
       "54"
      ]
     },
     "execution_count": 38,
     "metadata": {},
     "output_type": "execute_result"
    }
   ],
   "source": [
    "#Количество полных дублей\n",
    "df.duplicated().sum()"
   ]
  },
  {
   "cell_type": "code",
   "execution_count": 39,
   "metadata": {},
   "outputs": [],
   "source": [
    "#Удалим дублирующиеся строки\n",
    "df.drop_duplicates(inplace=True)"
   ]
  },
  {
   "cell_type": "code",
   "execution_count": 40,
   "metadata": {},
   "outputs": [
    {
     "data": {
      "text/plain": [
       "0"
      ]
     },
     "execution_count": 40,
     "metadata": {},
     "output_type": "execute_result"
    }
   ],
   "source": [
    "df.duplicated().sum()"
   ]
  },
  {
   "cell_type": "markdown",
   "metadata": {},
   "source": [
    "На этапе рассмотрения общей информации было отмечено наличие неявных дубликатов в столбцах `education` и `purpose`"
   ]
  },
  {
   "cell_type": "code",
   "execution_count": 41,
   "metadata": {},
   "outputs": [
    {
     "data": {
      "text/plain": [
       "array(['высшее', 'среднее', 'Среднее', 'СРЕДНЕЕ', 'ВЫСШЕЕ',\n",
       "       'неоконченное высшее', 'начальное', 'Высшее',\n",
       "       'НЕОКОНЧЕННОЕ ВЫСШЕЕ', 'Неоконченное высшее', 'НАЧАЛЬНОЕ',\n",
       "       'Начальное', 'Ученая степень', 'УЧЕНАЯ СТЕПЕНЬ', 'ученая степень'],\n",
       "      dtype=object)"
      ]
     },
     "execution_count": 41,
     "metadata": {},
     "output_type": "execute_result"
    }
   ],
   "source": [
    "#Уникальные значения столбца 'education'\n",
    "df['education'].unique()"
   ]
  },
  {
   "cell_type": "markdown",
   "metadata": {},
   "source": [
    "Появление дубликатов связано с использованием разного регистра. Для обработки дубликатов в данном столбце приведем все символы к нижнему регистру"
   ]
  },
  {
   "cell_type": "code",
   "execution_count": 42,
   "metadata": {},
   "outputs": [],
   "source": [
    "df['education'] = df['education'].str.lower()"
   ]
  },
  {
   "cell_type": "code",
   "execution_count": 43,
   "metadata": {},
   "outputs": [
    {
     "data": {
      "text/plain": [
       "array(['высшее', 'среднее', 'неоконченное высшее', 'начальное',\n",
       "       'ученая степень'], dtype=object)"
      ]
     },
     "execution_count": 43,
     "metadata": {},
     "output_type": "execute_result"
    }
   ],
   "source": [
    "df['education'].unique()"
   ]
  },
  {
   "cell_type": "code",
   "execution_count": 44,
   "metadata": {},
   "outputs": [
    {
     "data": {
      "text/plain": [
       "array(['покупка жилья', 'приобретение автомобиля',\n",
       "       'дополнительное образование', 'сыграть свадьбу',\n",
       "       'операции с жильем', 'образование', 'на проведение свадьбы',\n",
       "       'покупка жилья для семьи', 'покупка недвижимости',\n",
       "       'покупка коммерческой недвижимости', 'покупка жилой недвижимости',\n",
       "       'строительство собственной недвижимости', 'недвижимость',\n",
       "       'строительство недвижимости', 'на покупку подержанного автомобиля',\n",
       "       'на покупку своего автомобиля',\n",
       "       'операции с коммерческой недвижимостью',\n",
       "       'строительство жилой недвижимости', 'жилье',\n",
       "       'операции со своей недвижимостью', 'автомобили',\n",
       "       'заняться образованием', 'сделка с подержанным автомобилем',\n",
       "       'получение образования', 'автомобиль', 'свадьба',\n",
       "       'получение дополнительного образования', 'покупка своего жилья',\n",
       "       'операции с недвижимостью', 'получение высшего образования',\n",
       "       'свой автомобиль', 'сделка с автомобилем',\n",
       "       'профильное образование', 'высшее образование',\n",
       "       'покупка жилья для сдачи', 'на покупку автомобиля', 'ремонт жилью',\n",
       "       'заняться высшим образованием'], dtype=object)"
      ]
     },
     "execution_count": 44,
     "metadata": {},
     "output_type": "execute_result"
    }
   ],
   "source": [
    "#Уникальные значения столбца 'purpose'\n",
    "df['purpose'].unique()"
   ]
  },
  {
   "cell_type": "markdown",
   "metadata": {},
   "source": [
    "Данный случай сложнее. Дубликаты связаны с указанием одинаковых или похожих целей с использования разных словоформ и синонимичных выражений. Вероятно клиенты заполняли информацию о целях кредита в свободной форме"
   ]
  },
  {
   "cell_type": "markdown",
   "metadata": {},
   "source": [
    "**Вывод**"
   ]
  },
  {
   "cell_type": "markdown",
   "metadata": {},
   "source": [
    "На данном этапе  были выялены и удалены полностью дублирующиеся строки, а также обработаны неявные дубли в столбце `education`, связанные с заполнением данных с использованием разного регистра символов."
   ]
  },
  {
   "cell_type": "markdown",
   "metadata": {},
   "source": [
    "### Лемматизация"
   ]
  },
  {
   "cell_type": "code",
   "execution_count": 45,
   "metadata": {},
   "outputs": [],
   "source": [
    "from pymystem3 import Mystem\n",
    "m = Mystem()"
   ]
  },
  {
   "cell_type": "code",
   "execution_count": 46,
   "metadata": {},
   "outputs": [
    {
     "data": {
      "text/plain": [
       "['покупка жилья',\n",
       " 'приобретение автомобиля',\n",
       " 'дополнительное образование',\n",
       " 'сыграть свадьбу',\n",
       " 'операции с жильем',\n",
       " 'образование',\n",
       " 'на проведение свадьбы',\n",
       " 'покупка жилья для семьи',\n",
       " 'покупка недвижимости',\n",
       " 'покупка коммерческой недвижимости',\n",
       " 'покупка жилой недвижимости',\n",
       " 'строительство собственной недвижимости',\n",
       " 'недвижимость',\n",
       " 'строительство недвижимости',\n",
       " 'на покупку подержанного автомобиля',\n",
       " 'на покупку своего автомобиля',\n",
       " 'операции с коммерческой недвижимостью',\n",
       " 'строительство жилой недвижимости',\n",
       " 'жилье',\n",
       " 'операции со своей недвижимостью',\n",
       " 'автомобили',\n",
       " 'заняться образованием',\n",
       " 'сделка с подержанным автомобилем',\n",
       " 'получение образования',\n",
       " 'автомобиль',\n",
       " 'свадьба',\n",
       " 'получение дополнительного образования',\n",
       " 'покупка своего жилья',\n",
       " 'операции с недвижимостью',\n",
       " 'получение высшего образования',\n",
       " 'свой автомобиль',\n",
       " 'сделка с автомобилем',\n",
       " 'профильное образование',\n",
       " 'высшее образование',\n",
       " 'покупка жилья для сдачи',\n",
       " 'на покупку автомобиля',\n",
       " 'ремонт жилью',\n",
       " 'заняться высшим образованием']"
      ]
     },
     "execution_count": 46,
     "metadata": {},
     "output_type": "execute_result"
    }
   ],
   "source": [
    "#Создадим список из уникальных значений столбца 'purpose'\n",
    "purpose_list = list(df['purpose'].unique())\n",
    "purpose_list"
   ]
  },
  {
   "cell_type": "code",
   "execution_count": 47,
   "metadata": {},
   "outputs": [
    {
     "data": {
      "text/plain": [
       "{'покупка жилья': ['покупка', ' ', 'жилье', '\\n'],\n",
       " 'приобретение автомобиля': ['приобретение', ' ', 'автомобиль', '\\n'],\n",
       " 'дополнительное образование': ['дополнительный', ' ', 'образование', '\\n'],\n",
       " 'сыграть свадьбу': ['сыграть', ' ', 'свадьба', '\\n'],\n",
       " 'операции с жильем': ['операция', ' ', 'с', ' ', 'жилье', '\\n'],\n",
       " 'образование': ['образование', '\\n'],\n",
       " 'на проведение свадьбы': ['на', ' ', 'проведение', ' ', 'свадьба', '\\n'],\n",
       " 'покупка жилья для семьи': ['покупка',\n",
       "  ' ',\n",
       "  'жилье',\n",
       "  ' ',\n",
       "  'для',\n",
       "  ' ',\n",
       "  'семья',\n",
       "  '\\n'],\n",
       " 'покупка недвижимости': ['покупка', ' ', 'недвижимость', '\\n'],\n",
       " 'покупка коммерческой недвижимости': ['покупка',\n",
       "  ' ',\n",
       "  'коммерческий',\n",
       "  ' ',\n",
       "  'недвижимость',\n",
       "  '\\n'],\n",
       " 'покупка жилой недвижимости': ['покупка',\n",
       "  ' ',\n",
       "  'жилой',\n",
       "  ' ',\n",
       "  'недвижимость',\n",
       "  '\\n'],\n",
       " 'строительство собственной недвижимости': ['строительство',\n",
       "  ' ',\n",
       "  'собственный',\n",
       "  ' ',\n",
       "  'недвижимость',\n",
       "  '\\n'],\n",
       " 'недвижимость': ['недвижимость', '\\n'],\n",
       " 'строительство недвижимости': ['строительство', ' ', 'недвижимость', '\\n'],\n",
       " 'на покупку подержанного автомобиля': ['на',\n",
       "  ' ',\n",
       "  'покупка',\n",
       "  ' ',\n",
       "  'подержать',\n",
       "  ' ',\n",
       "  'автомобиль',\n",
       "  '\\n'],\n",
       " 'на покупку своего автомобиля': ['на',\n",
       "  ' ',\n",
       "  'покупка',\n",
       "  ' ',\n",
       "  'свой',\n",
       "  ' ',\n",
       "  'автомобиль',\n",
       "  '\\n'],\n",
       " 'операции с коммерческой недвижимостью': ['операция',\n",
       "  ' ',\n",
       "  'с',\n",
       "  ' ',\n",
       "  'коммерческий',\n",
       "  ' ',\n",
       "  'недвижимость',\n",
       "  '\\n'],\n",
       " 'строительство жилой недвижимости': ['строительство',\n",
       "  ' ',\n",
       "  'жилой',\n",
       "  ' ',\n",
       "  'недвижимость',\n",
       "  '\\n'],\n",
       " 'жилье': ['жилье', '\\n'],\n",
       " 'операции со своей недвижимостью': ['операция',\n",
       "  ' ',\n",
       "  'со',\n",
       "  ' ',\n",
       "  'свой',\n",
       "  ' ',\n",
       "  'недвижимость',\n",
       "  '\\n'],\n",
       " 'автомобили': ['автомобиль', '\\n'],\n",
       " 'заняться образованием': ['заниматься', ' ', 'образование', '\\n'],\n",
       " 'сделка с подержанным автомобилем': ['сделка',\n",
       "  ' ',\n",
       "  'с',\n",
       "  ' ',\n",
       "  'подержанный',\n",
       "  ' ',\n",
       "  'автомобиль',\n",
       "  '\\n'],\n",
       " 'получение образования': ['получение', ' ', 'образование', '\\n'],\n",
       " 'автомобиль': ['автомобиль', '\\n'],\n",
       " 'свадьба': ['свадьба', '\\n'],\n",
       " 'получение дополнительного образования': ['получение',\n",
       "  ' ',\n",
       "  'дополнительный',\n",
       "  ' ',\n",
       "  'образование',\n",
       "  '\\n'],\n",
       " 'покупка своего жилья': ['покупка', ' ', 'свой', ' ', 'жилье', '\\n'],\n",
       " 'операции с недвижимостью': ['операция', ' ', 'с', ' ', 'недвижимость', '\\n'],\n",
       " 'получение высшего образования': ['получение',\n",
       "  ' ',\n",
       "  'высокий',\n",
       "  ' ',\n",
       "  'образование',\n",
       "  '\\n'],\n",
       " 'свой автомобиль': ['свой', ' ', 'автомобиль', '\\n'],\n",
       " 'сделка с автомобилем': ['сделка', ' ', 'с', ' ', 'автомобиль', '\\n'],\n",
       " 'профильное образование': ['профильный', ' ', 'образование', '\\n'],\n",
       " 'высшее образование': ['высокий', ' ', 'образование', '\\n'],\n",
       " 'покупка жилья для сдачи': ['покупка',\n",
       "  ' ',\n",
       "  'жилье',\n",
       "  ' ',\n",
       "  'для',\n",
       "  ' ',\n",
       "  'сдача',\n",
       "  '\\n'],\n",
       " 'на покупку автомобиля': ['на', ' ', 'покупка', ' ', 'автомобиль', '\\n'],\n",
       " 'ремонт жилью': ['ремонт', ' ', 'жилье', '\\n'],\n",
       " 'заняться высшим образованием': ['заниматься',\n",
       "  ' ',\n",
       "  'высокий',\n",
       "  ' ',\n",
       "  'образование',\n",
       "  '\\n']}"
      ]
     },
     "execution_count": 47,
     "metadata": {},
     "output_type": "execute_result"
    }
   ],
   "source": [
    "#Создадим словарь, ключами которого будут уникальные значению 'purpose',\n",
    "#а значениями - списки из соответствующих им лемм\n",
    "lemma_dict = {}\n",
    "for elem in purpose_list:\n",
    "    lemma_dict.update({elem:m.lemmatize(elem)})\n",
    "\n",
    "lemma_dict"
   ]
  },
  {
   "cell_type": "code",
   "execution_count": 48,
   "metadata": {
    "scrolled": true
   },
   "outputs": [
    {
     "data": {
      "text/plain": [
       "{'покупка жилья': ['покупка', 'жилье'],\n",
       " 'приобретение автомобиля': ['приобретение', 'автомобиль'],\n",
       " 'дополнительное образование': ['дополнительный', 'образование'],\n",
       " 'сыграть свадьбу': ['сыграть', 'свадьба'],\n",
       " 'операции с жильем': ['операция', 'жилье'],\n",
       " 'образование': ['образование'],\n",
       " 'на проведение свадьбы': ['проведение', 'свадьба'],\n",
       " 'покупка жилья для семьи': ['покупка', 'жилье', 'семья'],\n",
       " 'покупка недвижимости': ['покупка', 'недвижимость'],\n",
       " 'покупка коммерческой недвижимости': ['покупка',\n",
       "  'коммерческий',\n",
       "  'недвижимость'],\n",
       " 'покупка жилой недвижимости': ['покупка', 'жилой', 'недвижимость'],\n",
       " 'строительство собственной недвижимости': ['строительство',\n",
       "  'собственный',\n",
       "  'недвижимость'],\n",
       " 'недвижимость': ['недвижимость'],\n",
       " 'строительство недвижимости': ['строительство', 'недвижимость'],\n",
       " 'на покупку подержанного автомобиля': ['покупка', 'подержать', 'автомобиль'],\n",
       " 'на покупку своего автомобиля': ['покупка', 'свой', 'автомобиль'],\n",
       " 'операции с коммерческой недвижимостью': ['операция',\n",
       "  'коммерческий',\n",
       "  'недвижимость'],\n",
       " 'строительство жилой недвижимости': ['строительство',\n",
       "  'жилой',\n",
       "  'недвижимость'],\n",
       " 'жилье': ['жилье'],\n",
       " 'операции со своей недвижимостью': ['операция', 'свой', 'недвижимость'],\n",
       " 'автомобили': ['автомобиль'],\n",
       " 'заняться образованием': ['заниматься', 'образование'],\n",
       " 'сделка с подержанным автомобилем': ['сделка', 'подержанный', 'автомобиль'],\n",
       " 'получение образования': ['получение', 'образование'],\n",
       " 'автомобиль': ['автомобиль'],\n",
       " 'свадьба': ['свадьба'],\n",
       " 'получение дополнительного образования': ['получение',\n",
       "  'дополнительный',\n",
       "  'образование'],\n",
       " 'покупка своего жилья': ['покупка', 'свой', 'жилье'],\n",
       " 'операции с недвижимостью': ['операция', 'недвижимость'],\n",
       " 'получение высшего образования': ['получение', 'высокий', 'образование'],\n",
       " 'свой автомобиль': ['свой', 'автомобиль'],\n",
       " 'сделка с автомобилем': ['сделка', 'автомобиль'],\n",
       " 'профильное образование': ['профильный', 'образование'],\n",
       " 'высшее образование': ['высокий', 'образование'],\n",
       " 'покупка жилья для сдачи': ['покупка', 'жилье', 'сдача'],\n",
       " 'на покупку автомобиля': ['покупка', 'автомобиль'],\n",
       " 'ремонт жилью': ['ремонт', 'жилье'],\n",
       " 'заняться высшим образованием': ['заниматься', 'высокий', 'образование']}"
      ]
     },
     "execution_count": 48,
     "metadata": {},
     "output_type": "execute_result"
    }
   ],
   "source": [
    "#Удалим из значений словаря лишние символы и предлоги для облегчения визуального восприятия\n",
    "new_lemma_dict ={}\n",
    "for key,value in lemma_dict.items():\n",
    "    new_value_list = []\n",
    "    for elem in value:\n",
    "        if elem not in [' ', '\\n', 'с', 'для', 'на', 'со']:\n",
    "            new_value_list.append(elem)\n",
    "    new_lemma_dict.update({key:new_value_list})\n",
    "new_lemma_dict"
   ]
  },
  {
   "cell_type": "markdown",
   "metadata": {},
   "source": [
    "Каждое значение полученного словаря содержит одно из приведенных ниже основных слов:  \n",
    "* жилье\n",
    "* автомобиль\n",
    "* образование\n",
    "* свадьба\n",
    "* недвижимость  \n",
    " \n",
    "Таким образом, любая из 38 целей из столбца `purpose` может быть определена в одну из пяти укрупненных категорий.  \n",
    "Дополнительно необходимо будет объединить цели из категорий `недвижимость` и `жилье`, т.к. это синонимы. В итоге останется четыре укрупненные категории в столбце с целями заема."
   ]
  },
  {
   "cell_type": "code",
   "execution_count": 49,
   "metadata": {},
   "outputs": [
    {
     "data": {
      "text/plain": [
       "{'покупка жилья': 'жилье',\n",
       " 'приобретение автомобиля': 'автомобиль',\n",
       " 'дополнительное образование': 'образование',\n",
       " 'сыграть свадьбу': 'свадьба',\n",
       " 'операции с жильем': 'жилье',\n",
       " 'образование': 'образование',\n",
       " 'на проведение свадьбы': 'свадьба',\n",
       " 'покупка жилья для семьи': 'жилье',\n",
       " 'покупка недвижимости': 'недвижимость',\n",
       " 'покупка коммерческой недвижимости': 'недвижимость',\n",
       " 'покупка жилой недвижимости': 'недвижимость',\n",
       " 'строительство собственной недвижимости': 'недвижимость',\n",
       " 'недвижимость': 'недвижимость',\n",
       " 'строительство недвижимости': 'недвижимость',\n",
       " 'на покупку подержанного автомобиля': 'автомобиль',\n",
       " 'на покупку своего автомобиля': 'автомобиль',\n",
       " 'операции с коммерческой недвижимостью': 'недвижимость',\n",
       " 'строительство жилой недвижимости': 'недвижимость',\n",
       " 'жилье': 'жилье',\n",
       " 'операции со своей недвижимостью': 'недвижимость',\n",
       " 'автомобили': 'автомобиль',\n",
       " 'заняться образованием': 'образование',\n",
       " 'сделка с подержанным автомобилем': 'автомобиль',\n",
       " 'получение образования': 'образование',\n",
       " 'автомобиль': 'автомобиль',\n",
       " 'свадьба': 'свадьба',\n",
       " 'получение дополнительного образования': 'образование',\n",
       " 'покупка своего жилья': 'жилье',\n",
       " 'операции с недвижимостью': 'недвижимость',\n",
       " 'получение высшего образования': 'образование',\n",
       " 'свой автомобиль': 'автомобиль',\n",
       " 'сделка с автомобилем': 'автомобиль',\n",
       " 'профильное образование': 'образование',\n",
       " 'высшее образование': 'образование',\n",
       " 'покупка жилья для сдачи': 'жилье',\n",
       " 'на покупку автомобиля': 'автомобиль',\n",
       " 'ремонт жилью': 'жилье',\n",
       " 'заняться высшим образованием': 'образование'}"
      ]
     },
     "execution_count": 49,
     "metadata": {},
     "output_type": "execute_result"
    }
   ],
   "source": [
    "#Поставим в соответствие каждой цели из датасета, соответствующую цель из списка типичных целей\n",
    "purpose_list = ['жилье','автомобиль','образование','свадьба','недвижимость']\n",
    "purpose_dict ={}\n",
    "for key,value in new_lemma_dict.items():\n",
    "    for elem in value:\n",
    "        if elem in purpose_list :\n",
    "            purpose_dict.update({key:elem})\n",
    "            break\n",
    "purpose_dict"
   ]
  },
  {
   "cell_type": "code",
   "execution_count": 50,
   "metadata": {},
   "outputs": [],
   "source": [
    "#Функция для замены названий целей\n",
    "def replace_purpose(row):\n",
    "    '''\n",
    "    Функция принимает на вход старое название цели,\n",
    "    в цикле перебирает элементы словаря purpose_dict,\n",
    "    если находит старый вариант написания целей - ключ словаря,\n",
    "    возвращает новый вариант написания - значение словаря\n",
    "    '''\n",
    "    for key,value in purpose_dict.items():\n",
    "        if key == row:\n",
    "            return value\n",
    "    else:\n",
    "        return('Внимание - неопознанная цель')"
   ]
  },
  {
   "cell_type": "code",
   "execution_count": 51,
   "metadata": {},
   "outputs": [
    {
     "name": "stdout",
     "output_type": "stream",
     "text": [
      "образование\n",
      "жилье\n",
      "свадьба\n",
      "Внимание - неопознанная цель\n"
     ]
    }
   ],
   "source": [
    "#Протестируем функцию replace_purpose\n",
    "row_test_values=['получение образования', 'ремонт жилью', 'сыграть свадьбу', 'бухнуть']\n",
    "for row in row_test_values:\n",
    "    print(replace_purpose(row))\n"
   ]
  },
  {
   "cell_type": "code",
   "execution_count": 52,
   "metadata": {},
   "outputs": [
    {
     "data": {
      "text/html": [
       "<div>\n",
       "<style scoped>\n",
       "    .dataframe tbody tr th:only-of-type {\n",
       "        vertical-align: middle;\n",
       "    }\n",
       "\n",
       "    .dataframe tbody tr th {\n",
       "        vertical-align: top;\n",
       "    }\n",
       "\n",
       "    .dataframe thead th {\n",
       "        text-align: right;\n",
       "    }\n",
       "</style>\n",
       "<table border=\"1\" class=\"dataframe\">\n",
       "  <thead>\n",
       "    <tr style=\"text-align: right;\">\n",
       "      <th></th>\n",
       "      <th>children</th>\n",
       "      <th>age</th>\n",
       "      <th>education</th>\n",
       "      <th>education_id</th>\n",
       "      <th>family_status</th>\n",
       "      <th>family_status_id</th>\n",
       "      <th>gender</th>\n",
       "      <th>income_type</th>\n",
       "      <th>debt</th>\n",
       "      <th>total_income</th>\n",
       "      <th>purpose</th>\n",
       "      <th>purpose_type</th>\n",
       "    </tr>\n",
       "  </thead>\n",
       "  <tbody>\n",
       "    <tr>\n",
       "      <td>0</td>\n",
       "      <td>1</td>\n",
       "      <td>42</td>\n",
       "      <td>высшее</td>\n",
       "      <td>0</td>\n",
       "      <td>женат / замужем</td>\n",
       "      <td>0</td>\n",
       "      <td>F</td>\n",
       "      <td>сотрудник</td>\n",
       "      <td>0</td>\n",
       "      <td>253875</td>\n",
       "      <td>покупка жилья</td>\n",
       "      <td>жилье</td>\n",
       "    </tr>\n",
       "    <tr>\n",
       "      <td>1</td>\n",
       "      <td>1</td>\n",
       "      <td>36</td>\n",
       "      <td>среднее</td>\n",
       "      <td>1</td>\n",
       "      <td>женат / замужем</td>\n",
       "      <td>0</td>\n",
       "      <td>F</td>\n",
       "      <td>сотрудник</td>\n",
       "      <td>0</td>\n",
       "      <td>112080</td>\n",
       "      <td>приобретение автомобиля</td>\n",
       "      <td>автомобиль</td>\n",
       "    </tr>\n",
       "    <tr>\n",
       "      <td>2</td>\n",
       "      <td>0</td>\n",
       "      <td>33</td>\n",
       "      <td>среднее</td>\n",
       "      <td>1</td>\n",
       "      <td>женат / замужем</td>\n",
       "      <td>0</td>\n",
       "      <td>M</td>\n",
       "      <td>сотрудник</td>\n",
       "      <td>0</td>\n",
       "      <td>145885</td>\n",
       "      <td>покупка жилья</td>\n",
       "      <td>жилье</td>\n",
       "    </tr>\n",
       "    <tr>\n",
       "      <td>3</td>\n",
       "      <td>3</td>\n",
       "      <td>32</td>\n",
       "      <td>среднее</td>\n",
       "      <td>1</td>\n",
       "      <td>женат / замужем</td>\n",
       "      <td>0</td>\n",
       "      <td>M</td>\n",
       "      <td>сотрудник</td>\n",
       "      <td>0</td>\n",
       "      <td>267628</td>\n",
       "      <td>дополнительное образование</td>\n",
       "      <td>образование</td>\n",
       "    </tr>\n",
       "    <tr>\n",
       "      <td>4</td>\n",
       "      <td>0</td>\n",
       "      <td>53</td>\n",
       "      <td>среднее</td>\n",
       "      <td>1</td>\n",
       "      <td>гражданский брак</td>\n",
       "      <td>1</td>\n",
       "      <td>F</td>\n",
       "      <td>пенсионер</td>\n",
       "      <td>0</td>\n",
       "      <td>158616</td>\n",
       "      <td>сыграть свадьбу</td>\n",
       "      <td>свадьба</td>\n",
       "    </tr>\n",
       "  </tbody>\n",
       "</table>\n",
       "</div>"
      ],
      "text/plain": [
       "   children  age education  education_id     family_status  family_status_id  \\\n",
       "0         1   42    высшее             0   женат / замужем                 0   \n",
       "1         1   36   среднее             1   женат / замужем                 0   \n",
       "2         0   33   среднее             1   женат / замужем                 0   \n",
       "3         3   32   среднее             1   женат / замужем                 0   \n",
       "4         0   53   среднее             1  гражданский брак                 1   \n",
       "\n",
       "  gender income_type  debt  total_income                     purpose  \\\n",
       "0      F   сотрудник     0        253875               покупка жилья   \n",
       "1      F   сотрудник     0        112080     приобретение автомобиля   \n",
       "2      M   сотрудник     0        145885               покупка жилья   \n",
       "3      M   сотрудник     0        267628  дополнительное образование   \n",
       "4      F   пенсионер     0        158616             сыграть свадьбу   \n",
       "\n",
       "  purpose_type  \n",
       "0        жилье  \n",
       "1   автомобиль  \n",
       "2        жилье  \n",
       "3  образование  \n",
       "4      свадьба  "
      ]
     },
     "execution_count": 52,
     "metadata": {},
     "output_type": "execute_result"
    }
   ],
   "source": [
    "#Создадим столбец с обновленными названиями целей\n",
    "df['purpose_type'] = df['purpose'].apply(replace_purpose)\n",
    "df.head()"
   ]
  },
  {
   "cell_type": "code",
   "execution_count": 53,
   "metadata": {},
   "outputs": [
    {
     "data": {
      "text/html": [
       "<div>\n",
       "<style scoped>\n",
       "    .dataframe tbody tr th:only-of-type {\n",
       "        vertical-align: middle;\n",
       "    }\n",
       "\n",
       "    .dataframe tbody tr th {\n",
       "        vertical-align: top;\n",
       "    }\n",
       "\n",
       "    .dataframe thead th {\n",
       "        text-align: right;\n",
       "    }\n",
       "</style>\n",
       "<table border=\"1\" class=\"dataframe\">\n",
       "  <thead>\n",
       "    <tr style=\"text-align: right;\">\n",
       "      <th></th>\n",
       "      <th>children</th>\n",
       "      <th>age</th>\n",
       "      <th>education</th>\n",
       "      <th>education_id</th>\n",
       "      <th>family_status</th>\n",
       "      <th>family_status_id</th>\n",
       "      <th>gender</th>\n",
       "      <th>income_type</th>\n",
       "      <th>debt</th>\n",
       "      <th>total_income</th>\n",
       "      <th>purpose</th>\n",
       "      <th>purpose_type</th>\n",
       "    </tr>\n",
       "  </thead>\n",
       "  <tbody>\n",
       "    <tr>\n",
       "      <td>0</td>\n",
       "      <td>1</td>\n",
       "      <td>42</td>\n",
       "      <td>высшее</td>\n",
       "      <td>0</td>\n",
       "      <td>женат / замужем</td>\n",
       "      <td>0</td>\n",
       "      <td>F</td>\n",
       "      <td>сотрудник</td>\n",
       "      <td>0</td>\n",
       "      <td>253875</td>\n",
       "      <td>покупка жилья</td>\n",
       "      <td>недвижимость</td>\n",
       "    </tr>\n",
       "    <tr>\n",
       "      <td>1</td>\n",
       "      <td>1</td>\n",
       "      <td>36</td>\n",
       "      <td>среднее</td>\n",
       "      <td>1</td>\n",
       "      <td>женат / замужем</td>\n",
       "      <td>0</td>\n",
       "      <td>F</td>\n",
       "      <td>сотрудник</td>\n",
       "      <td>0</td>\n",
       "      <td>112080</td>\n",
       "      <td>приобретение автомобиля</td>\n",
       "      <td>автомобиль</td>\n",
       "    </tr>\n",
       "    <tr>\n",
       "      <td>2</td>\n",
       "      <td>0</td>\n",
       "      <td>33</td>\n",
       "      <td>среднее</td>\n",
       "      <td>1</td>\n",
       "      <td>женат / замужем</td>\n",
       "      <td>0</td>\n",
       "      <td>M</td>\n",
       "      <td>сотрудник</td>\n",
       "      <td>0</td>\n",
       "      <td>145885</td>\n",
       "      <td>покупка жилья</td>\n",
       "      <td>недвижимость</td>\n",
       "    </tr>\n",
       "    <tr>\n",
       "      <td>3</td>\n",
       "      <td>3</td>\n",
       "      <td>32</td>\n",
       "      <td>среднее</td>\n",
       "      <td>1</td>\n",
       "      <td>женат / замужем</td>\n",
       "      <td>0</td>\n",
       "      <td>M</td>\n",
       "      <td>сотрудник</td>\n",
       "      <td>0</td>\n",
       "      <td>267628</td>\n",
       "      <td>дополнительное образование</td>\n",
       "      <td>образование</td>\n",
       "    </tr>\n",
       "    <tr>\n",
       "      <td>4</td>\n",
       "      <td>0</td>\n",
       "      <td>53</td>\n",
       "      <td>среднее</td>\n",
       "      <td>1</td>\n",
       "      <td>гражданский брак</td>\n",
       "      <td>1</td>\n",
       "      <td>F</td>\n",
       "      <td>пенсионер</td>\n",
       "      <td>0</td>\n",
       "      <td>158616</td>\n",
       "      <td>сыграть свадьбу</td>\n",
       "      <td>свадьба</td>\n",
       "    </tr>\n",
       "  </tbody>\n",
       "</table>\n",
       "</div>"
      ],
      "text/plain": [
       "   children  age education  education_id     family_status  family_status_id  \\\n",
       "0         1   42    высшее             0   женат / замужем                 0   \n",
       "1         1   36   среднее             1   женат / замужем                 0   \n",
       "2         0   33   среднее             1   женат / замужем                 0   \n",
       "3         3   32   среднее             1   женат / замужем                 0   \n",
       "4         0   53   среднее             1  гражданский брак                 1   \n",
       "\n",
       "  gender income_type  debt  total_income                     purpose  \\\n",
       "0      F   сотрудник     0        253875               покупка жилья   \n",
       "1      F   сотрудник     0        112080     приобретение автомобиля   \n",
       "2      M   сотрудник     0        145885               покупка жилья   \n",
       "3      M   сотрудник     0        267628  дополнительное образование   \n",
       "4      F   пенсионер     0        158616             сыграть свадьбу   \n",
       "\n",
       "   purpose_type  \n",
       "0  недвижимость  \n",
       "1    автомобиль  \n",
       "2  недвижимость  \n",
       "3   образование  \n",
       "4       свадьба  "
      ]
     },
     "execution_count": 53,
     "metadata": {},
     "output_type": "execute_result"
    }
   ],
   "source": [
    "#Заменим цель \"жилье\" на \"недвижимость\"\n",
    "df.loc[df['purpose_type'] == 'жилье', ['purpose_type']] = 'недвижимость' \n",
    "df.head()"
   ]
  },
  {
   "cell_type": "code",
   "execution_count": 54,
   "metadata": {},
   "outputs": [
    {
     "data": {
      "text/plain": [
       "недвижимость    10705\n",
       "автомобиль       4260\n",
       "образование      3971\n",
       "свадьба          2310\n",
       "Name: purpose_type, dtype: int64"
      ]
     },
     "execution_count": 54,
     "metadata": {},
     "output_type": "execute_result"
    }
   ],
   "source": [
    "df['purpose_type'].value_counts()"
   ]
  },
  {
   "cell_type": "markdown",
   "metadata": {},
   "source": [
    "**Вывод**"
   ]
  },
  {
   "cell_type": "markdown",
   "metadata": {},
   "source": [
    "Анализ столбца `purpose` показал, что большое количество уникальных значений в данном столбце связано с использованием для его заполнения различных словоформ и синонимичных выражений, обозначающих одинаковые или схожие цели.  \n",
    "Для обработки таких дублей и распределения их по укрупненным категориям использован метод лемматизации. Были вычленены основные слова, характеризующие цель заема, на которые были заменены значения столбца. В итоге 38 изначальных выражения были объединены в четыре категории: недвижимость, автомобиль, образование и свадьба.\n"
   ]
  },
  {
   "cell_type": "markdown",
   "metadata": {},
   "source": [
    "### Категоризация данных"
   ]
  },
  {
   "cell_type": "markdown",
   "metadata": {},
   "source": [
    "Для категоризации рассмотрим такие признаки как количество детей, возраст, уровень образования, семейное положение, ежемесячный доход"
   ]
  },
  {
   "cell_type": "code",
   "execution_count": 55,
   "metadata": {},
   "outputs": [
    {
     "data": {
      "text/plain": [
       "0    14036\n",
       "1     4793\n",
       "2     2039\n",
       "3      328\n",
       "4       41\n",
       "5        9\n",
       "Name: children, dtype: int64"
      ]
     },
     "execution_count": 55,
     "metadata": {},
     "output_type": "execute_result"
    }
   ],
   "source": [
    "#Количество уникальных значений по столбцу `children`\n",
    "df['children'].value_counts()"
   ]
  },
  {
   "cell_type": "markdown",
   "metadata": {},
   "source": [
    "Из распределения видно, что в выборке сравнительно мало семей с четырьмя и пятью детьми. Их количество может оказаться недостаточным для формулировки выводов.  \n",
    "Представляется логичным объединение семей с 3, 4 и 5 детьми в одну группу - более 2-х детей."
   ]
  },
  {
   "cell_type": "code",
   "execution_count": 56,
   "metadata": {},
   "outputs": [],
   "source": [
    "def children_group(children):\n",
    "    '''\n",
    "    Функция возвращает группу по количеству детей children:\n",
    "    - 'нет детей', если children = 0;\n",
    "    - '1 ребенок', если children = 1;\n",
    "    - '2 детей', если children = 2;\n",
    "    - 'более 2-х детей', если children > 2;\n",
    "    '''    \n",
    "    if children == 0:\n",
    "        return 'нет детей'\n",
    "    if children == 1:\n",
    "        return '1 ребенок'\n",
    "    if children == 2:\n",
    "        return '2 детей'\n",
    "    return 'более 2-х детей'\n"
   ]
  },
  {
   "cell_type": "code",
   "execution_count": 57,
   "metadata": {},
   "outputs": [
    {
     "data": {
      "text/plain": [
       "нет детей          14036\n",
       "1 ребенок           4793\n",
       "2 детей             2039\n",
       "более 2-х детей      378\n",
       "Name: children_group, dtype: int64"
      ]
     },
     "execution_count": 57,
     "metadata": {},
     "output_type": "execute_result"
    }
   ],
   "source": [
    "df['children_group'] = df['children'].apply(children_group)\n",
    "df['children_group'].value_counts()"
   ]
  },
  {
   "cell_type": "markdown",
   "metadata": {},
   "source": [
    "Группа с количеством детей более 2-х сравнительно малочисленна, однако еще большее укрупнение групп может негативно сказаться на качестве модели."
   ]
  },
  {
   "cell_type": "code",
   "execution_count": 58,
   "metadata": {
    "scrolled": true
   },
   "outputs": [
    {
     "data": {
      "text/plain": [
       "35    613\n",
       "41    602\n",
       "40    601\n",
       "34    595\n",
       "38    594\n",
       "42    591\n",
       "33    577\n",
       "39    571\n",
       "31    555\n",
       "36    552\n",
       "29    542\n",
       "44    541\n",
       "48    535\n",
       "30    534\n",
       "37    530\n",
       "43    509\n",
       "50    508\n",
       "49    505\n",
       "32    505\n",
       "28    501\n",
       "45    494\n",
       "27    490\n",
       "52    483\n",
       "56    479\n",
       "47    477\n",
       "54    473\n",
       "46    467\n",
       "53    457\n",
       "58    455\n",
       "57    453\n",
       "51    446\n",
       "55    441\n",
       "59    440\n",
       "26    406\n",
       "60    373\n",
       "25    356\n",
       "61    352\n",
       "62    348\n",
       "63    268\n",
       "24    262\n",
       "64    260\n",
       "23    251\n",
       "65    194\n",
       "22    183\n",
       "66    182\n",
       "67    167\n",
       "21    110\n",
       "68     99\n",
       "69     83\n",
       "70     65\n",
       "71     58\n",
       "20     51\n",
       "72     33\n",
       "19     14\n",
       "73      8\n",
       "74      6\n",
       "75      1\n",
       "Name: age, dtype: int64"
      ]
     },
     "execution_count": 58,
     "metadata": {},
     "output_type": "execute_result"
    }
   ],
   "source": [
    "#Количество уникальных значений по столбцу `age`\n",
    "df['age'].value_counts()"
   ]
  },
  {
   "cell_type": "code",
   "execution_count": 59,
   "metadata": {},
   "outputs": [],
   "source": [
    "#Функция для группировки заемщиков по возрасту\n",
    "def age_group(age):\n",
    "    if age < 25:\n",
    "        return 'до 25 лет'\n",
    "    if 25 <= age < 35:\n",
    "        return 'от 25 до 35 лет'\n",
    "    if 35 <= age < 45:\n",
    "        return 'от 35 до 45 лет'\n",
    "    if 45 <= age < 55:\n",
    "        return 'от 45 до 55 лет'\n",
    "    if 55 <= age < 65:\n",
    "        return 'от 55 до 65 лет'\n",
    "    return 'более 65 лет'"
   ]
  },
  {
   "cell_type": "code",
   "execution_count": 60,
   "metadata": {},
   "outputs": [
    {
     "data": {
      "text/plain": [
       "от 35 до 45 лет    5704\n",
       "от 25 до 35 лет    5061\n",
       "от 45 до 55 лет    4845\n",
       "от 55 до 65 лет    3869\n",
       "более 65 лет        896\n",
       "до 25 лет           871\n",
       "Name: age_group, dtype: int64"
      ]
     },
     "execution_count": 60,
     "metadata": {},
     "output_type": "execute_result"
    }
   ],
   "source": [
    "df['age_group'] = df['age'].apply(age_group)\n",
    "df['age_group'].value_counts()"
   ]
  },
  {
   "cell_type": "markdown",
   "metadata": {},
   "source": [
    "Каждая группа по возрасту получилась достаточно представительной, такую категоризацию можно оставить для использования в модели.  \n",
    "Т.к. названия категорий по возрасту получились достаточно грмоздкие, создадим столбец `age_group_id` и каждой возрастной группе присвоим соответствующий номер."
   ]
  },
  {
   "cell_type": "code",
   "execution_count": 61,
   "metadata": {},
   "outputs": [],
   "source": [
    "#Функция для присвоения возрастной группе соответствующего номера\n",
    "def age_group_id(age_group):\n",
    "    if age_group == 'до 25 лет':\n",
    "        return 0\n",
    "    if age_group == 'от 25 до 35 лет':\n",
    "        return 1\n",
    "    if age_group == 'от 35 до 45 лет':\n",
    "        return 2\n",
    "    if age_group == 'от 45 до 55 лет':\n",
    "        return 3\n",
    "    if age_group == 'от 55 до 65 лет':\n",
    "        return 4\n",
    "    return 5"
   ]
  },
  {
   "cell_type": "code",
   "execution_count": 62,
   "metadata": {},
   "outputs": [],
   "source": [
    "df['age_group_id'] = df['age_group'].apply(age_group_id)"
   ]
  },
  {
   "cell_type": "code",
   "execution_count": 63,
   "metadata": {
    "scrolled": true
   },
   "outputs": [
    {
     "data": {
      "text/html": [
       "<div>\n",
       "<style scoped>\n",
       "    .dataframe tbody tr th:only-of-type {\n",
       "        vertical-align: middle;\n",
       "    }\n",
       "\n",
       "    .dataframe tbody tr th {\n",
       "        vertical-align: top;\n",
       "    }\n",
       "\n",
       "    .dataframe thead th {\n",
       "        text-align: right;\n",
       "    }\n",
       "</style>\n",
       "<table border=\"1\" class=\"dataframe\">\n",
       "  <thead>\n",
       "    <tr style=\"text-align: right;\">\n",
       "      <th></th>\n",
       "      <th>age_group</th>\n",
       "      <th>age_group_id</th>\n",
       "    </tr>\n",
       "  </thead>\n",
       "  <tbody>\n",
       "    <tr>\n",
       "      <td>0</td>\n",
       "      <td>до 25 лет</td>\n",
       "      <td>0</td>\n",
       "    </tr>\n",
       "    <tr>\n",
       "      <td>1</td>\n",
       "      <td>от 25 до 35 лет</td>\n",
       "      <td>1</td>\n",
       "    </tr>\n",
       "    <tr>\n",
       "      <td>2</td>\n",
       "      <td>от 35 до 45 лет</td>\n",
       "      <td>2</td>\n",
       "    </tr>\n",
       "    <tr>\n",
       "      <td>3</td>\n",
       "      <td>от 45 до 55 лет</td>\n",
       "      <td>3</td>\n",
       "    </tr>\n",
       "    <tr>\n",
       "      <td>4</td>\n",
       "      <td>от 55 до 65 лет</td>\n",
       "      <td>4</td>\n",
       "    </tr>\n",
       "    <tr>\n",
       "      <td>5</td>\n",
       "      <td>более 65 лет</td>\n",
       "      <td>5</td>\n",
       "    </tr>\n",
       "  </tbody>\n",
       "</table>\n",
       "</div>"
      ],
      "text/plain": [
       "         age_group  age_group_id\n",
       "0        до 25 лет             0\n",
       "1  от 25 до 35 лет             1\n",
       "2  от 35 до 45 лет             2\n",
       "3  от 45 до 55 лет             3\n",
       "4  от 55 до 65 лет             4\n",
       "5     более 65 лет             5"
      ]
     },
     "execution_count": 63,
     "metadata": {},
     "output_type": "execute_result"
    }
   ],
   "source": [
    "#Создадим \"словарь\" соответствия age_group - age_group_id\n",
    "age_group_dict = df[['age_group', 'age_group_id']].drop_duplicates().sort_values('age_group_id').reset_index(drop=True)\n",
    "age_group_dict"
   ]
  },
  {
   "cell_type": "code",
   "execution_count": 64,
   "metadata": {},
   "outputs": [
    {
     "data": {
      "text/plain": [
       "среднее                15028\n",
       "высшее                  5192\n",
       "неоконченное высшее      738\n",
       "начальное                282\n",
       "ученая степень             6\n",
       "Name: education, dtype: int64"
      ]
     },
     "execution_count": 64,
     "metadata": {},
     "output_type": "execute_result"
    }
   ],
   "source": [
    "#Распределение заемщиков по уровню образования\n",
    "df['education'].value_counts()"
   ]
  },
  {
   "cell_type": "code",
   "execution_count": 65,
   "metadata": {},
   "outputs": [
    {
     "data": {
      "text/plain": [
       "education\n",
       "высшее                 [0]\n",
       "среднее                [1]\n",
       "неоконченное высшее    [2]\n",
       "начальное              [3]\n",
       "ученая степень         [4]\n",
       "Name: education_id, dtype: object"
      ]
     },
     "execution_count": 65,
     "metadata": {},
     "output_type": "execute_result"
    }
   ],
   "source": [
    "#Проверим соответствие education и education_id\n",
    "df.groupby('education')['education_id'].unique().sort_values()"
   ]
  },
  {
   "cell_type": "markdown",
   "metadata": {},
   "source": [
    "Количество заемщиков с ученой степенью слишком мало, всего шесть человек. Укрупним категорию с высшим образованием, включив в нее также группу с ученой степенью. Произведем замену в столбце `education` без добавления нового столбца.  \n",
    "Индексация `education_id` не является интуитивно понятной: 0 соответсвутет высшему образованию, 1 - среднему, 2 - неоконченному высшему и т.д. Перезапишем значения таким образом, чтобы более высокий уровень образования соответствовал более высокому значению `education_id`"
   ]
  },
  {
   "cell_type": "code",
   "execution_count": 66,
   "metadata": {},
   "outputs": [
    {
     "data": {
      "text/plain": [
       "среднее                15028\n",
       "высшее                  5198\n",
       "неоконченное высшее      738\n",
       "начальное                282\n",
       "Name: education, dtype: int64"
      ]
     },
     "execution_count": 66,
     "metadata": {},
     "output_type": "execute_result"
    }
   ],
   "source": [
    "df.loc[df['education'] == 'ученая степень', 'education'] = 'высшее'\n",
    "df['education'].value_counts()"
   ]
  },
  {
   "cell_type": "code",
   "execution_count": 67,
   "metadata": {},
   "outputs": [
    {
     "data": {
      "text/plain": [
       "education\n",
       "начальное              [0]\n",
       "среднее                [1]\n",
       "неоконченное высшее    [2]\n",
       "высшее                 [3]\n",
       "Name: education_id, dtype: object"
      ]
     },
     "execution_count": 67,
     "metadata": {},
     "output_type": "execute_result"
    }
   ],
   "source": [
    "df.loc[df['education'] == 'начальное', 'education_id'] = 0\n",
    "df.loc[df['education'] == 'среднее', 'education_id'] = 1\n",
    "df.loc[df['education'] == 'неоконченное высшее', 'education_id'] = 2\n",
    "df.loc[df['education'] == 'высшее', 'education_id'] = 3\n",
    "df.groupby('education')['education_id'].unique().sort_values()"
   ]
  },
  {
   "cell_type": "code",
   "execution_count": 68,
   "metadata": {},
   "outputs": [
    {
     "data": {
      "text/plain": [
       "женат / замужем          12217\n",
       "гражданский брак          4124\n",
       "Не женат / не замужем     2780\n",
       "в разводе                 1179\n",
       "вдовец / вдова             946\n",
       "Name: family_status, dtype: int64"
      ]
     },
     "execution_count": 68,
     "metadata": {},
     "output_type": "execute_result"
    }
   ],
   "source": [
    "#Распределение заемщиков по семейному положению\n",
    "df['family_status'].value_counts()"
   ]
  },
  {
   "cell_type": "code",
   "execution_count": 69,
   "metadata": {},
   "outputs": [
    {
     "data": {
      "text/plain": [
       "family_status\n",
       "женат / замужем          [0]\n",
       "гражданский брак         [1]\n",
       "вдовец / вдова           [2]\n",
       "в разводе                [3]\n",
       "Не женат / не замужем    [4]\n",
       "Name: family_status_id, dtype: object"
      ]
     },
     "execution_count": 69,
     "metadata": {},
     "output_type": "execute_result"
    }
   ],
   "source": [
    "#Проверим соответствие семейного статуса и соответствующего номера id\n",
    "df.groupby('family_status')['family_status_id'].unique().sort_values()"
   ]
  },
  {
   "cell_type": "markdown",
   "metadata": {},
   "source": [
    "В каждой группе по семейному положению достаточно большое количество клиентов, групп сравнительно немного - всего пять, оставим все как есть"
   ]
  },
  {
   "cell_type": "code",
   "execution_count": 70,
   "metadata": {},
   "outputs": [
    {
     "data": {
      "text/plain": [
       "сотрудник          10968\n",
       "компаньон           5028\n",
       "пенсионер           3800\n",
       "госслужащий         1445\n",
       "безработный            2\n",
       "предприниматель        1\n",
       "студент                1\n",
       "в декрете              1\n",
       "Name: income_type, dtype: int64"
      ]
     },
     "execution_count": 70,
     "metadata": {},
     "output_type": "execute_result"
    }
   ],
   "source": [
    "#Распределение заемщиков по типу занятости\n",
    "df['income_type'].value_counts()"
   ]
  },
  {
   "cell_type": "markdown",
   "metadata": {},
   "source": [
    "Категории \"безработный\", \"студент\", \"в декрете\", \"предприниматель\" представлены в единичном количестве.\n",
    "Требует уточнения понятие \"компаньон\", т.к. оно не характерно для российской практики, вероятнее всего под этим понятием имеются ввиду владельцы/совладельцы компаний. Тогда с небольшой натяжкой можно отнести единственного \"предпринимателя\" в эту категорию, а остальные категории удалим, т.к. из них не получится собрать представительную выборку даже если объединить в одну категорию, например 'прочие'."
   ]
  },
  {
   "cell_type": "code",
   "execution_count": 71,
   "metadata": {},
   "outputs": [],
   "source": [
    "df = df.drop(df[(df['income_type'] == 'безработный') | (df['income_type'] == 'студент') |\n",
    "                (df['income_type'] == 'в декрете')].index)\n",
    "df.loc[df['income_type'] == 'предприниматель', 'income_type'] = \"компаньон\""
   ]
  },
  {
   "cell_type": "code",
   "execution_count": 72,
   "metadata": {},
   "outputs": [
    {
     "data": {
      "text/plain": [
       "сотрудник      10968\n",
       "компаньон       5029\n",
       "пенсионер       3800\n",
       "госслужащий     1445\n",
       "Name: income_type, dtype: int64"
      ]
     },
     "execution_count": 72,
     "metadata": {},
     "output_type": "execute_result"
    }
   ],
   "source": [
    "df['income_type'].value_counts()"
   ]
  },
  {
   "cell_type": "code",
   "execution_count": 73,
   "metadata": {
    "scrolled": true
   },
   "outputs": [
    {
     "data": {
      "text/plain": [
       "count      21242.0\n",
       "mean      165355.3\n",
       "std        98368.7\n",
       "min        20667.0\n",
       "25%       107644.8\n",
       "50%       142594.0\n",
       "75%       195750.2\n",
       "max      2265604.0\n",
       "Name: total_income, dtype: float64"
      ]
     },
     "execution_count": 73,
     "metadata": {},
     "output_type": "execute_result"
    }
   ],
   "source": [
    "#Статистика заемщиков по ежемесячному доходу\n",
    "df['total_income'].describe().round(1)"
   ]
  },
  {
   "cell_type": "markdown",
   "metadata": {},
   "source": [
    "Категоризацию можно произвести на основе вышеприведенных квартилей, в этом случае будет всего 4 категории с одинаковым количеством заемщиков внутри каждой группы. Этого может оказаться недостаточным для построения модели, поэтому увеличим количество категорий до 6 и определим примерно их границы"
   ]
  },
  {
   "cell_type": "code",
   "execution_count": 74,
   "metadata": {},
   "outputs": [
    {
     "data": {
      "text/plain": [
       "[(20666.999, 92176.333], (92176.333, 119257.333], (119257.333, 142594.0], (142594.0, 172357.0], (172357.0, 228839.0], (228839.0, 2265604.0]]\n",
       "Categories (6, interval[float64]): [(20666.999, 92176.333] < (92176.333, 119257.333] < (119257.333, 142594.0] < (142594.0, 172357.0] < (172357.0, 228839.0] < (228839.0, 2265604.0]]"
      ]
     },
     "execution_count": 74,
     "metadata": {},
     "output_type": "execute_result"
    }
   ],
   "source": [
    "pd.qcut(df['total_income'], q=6).unique().sort_values()"
   ]
  },
  {
   "cell_type": "code",
   "execution_count": 75,
   "metadata": {},
   "outputs": [],
   "source": [
    "#Функция для группировки заемщиков по уровню дохода\n",
    "def income_group(total_income):\n",
    "    '''\n",
    "    Функция принимает значение total_income,\n",
    "    возвращает соответствующее название группы\n",
    "    и соответстующий данной группе номер (id)\n",
    "    '''\n",
    "    if total_income < 90000:\n",
    "        return pd.Series(['до 90 000', '0'])\n",
    "    if 90000 <= total_income < 120000:\n",
    "        return pd.Series(['от 90 000 до 120 000', '1'])\n",
    "    if 120000 <= total_income < 150000:\n",
    "        return pd.Series(['от 120 000 до 150 000', '2'])\n",
    "    if 150000 <= total_income < 180000:\n",
    "        return pd.Series(['от 150 000 до 180 000', '3'])\n",
    "    if 180000 <= total_income < 230000:\n",
    "        return pd.Series(['от 180 000 до 230 000', '4'])\n",
    "    return pd.Series(['более 230 000', '5'])\n"
   ]
  },
  {
   "cell_type": "code",
   "execution_count": 76,
   "metadata": {},
   "outputs": [
    {
     "data": {
      "text/html": [
       "<div>\n",
       "<style scoped>\n",
       "    .dataframe tbody tr th:only-of-type {\n",
       "        vertical-align: middle;\n",
       "    }\n",
       "\n",
       "    .dataframe tbody tr th {\n",
       "        vertical-align: top;\n",
       "    }\n",
       "\n",
       "    .dataframe thead th {\n",
       "        text-align: right;\n",
       "    }\n",
       "</style>\n",
       "<table border=\"1\" class=\"dataframe\">\n",
       "  <thead>\n",
       "    <tr style=\"text-align: right;\">\n",
       "      <th></th>\n",
       "      <th>children</th>\n",
       "      <th>age</th>\n",
       "      <th>education</th>\n",
       "      <th>education_id</th>\n",
       "      <th>family_status</th>\n",
       "      <th>family_status_id</th>\n",
       "      <th>gender</th>\n",
       "      <th>income_type</th>\n",
       "      <th>debt</th>\n",
       "      <th>total_income</th>\n",
       "      <th>purpose</th>\n",
       "      <th>purpose_type</th>\n",
       "      <th>children_group</th>\n",
       "      <th>age_group</th>\n",
       "      <th>age_group_id</th>\n",
       "      <th>income_group</th>\n",
       "      <th>income_group_id</th>\n",
       "    </tr>\n",
       "  </thead>\n",
       "  <tbody>\n",
       "    <tr>\n",
       "      <td>0</td>\n",
       "      <td>1</td>\n",
       "      <td>42</td>\n",
       "      <td>высшее</td>\n",
       "      <td>3</td>\n",
       "      <td>женат / замужем</td>\n",
       "      <td>0</td>\n",
       "      <td>F</td>\n",
       "      <td>сотрудник</td>\n",
       "      <td>0</td>\n",
       "      <td>253875</td>\n",
       "      <td>покупка жилья</td>\n",
       "      <td>недвижимость</td>\n",
       "      <td>1 ребенок</td>\n",
       "      <td>от 35 до 45 лет</td>\n",
       "      <td>2</td>\n",
       "      <td>более 230 000</td>\n",
       "      <td>5</td>\n",
       "    </tr>\n",
       "    <tr>\n",
       "      <td>1</td>\n",
       "      <td>1</td>\n",
       "      <td>36</td>\n",
       "      <td>среднее</td>\n",
       "      <td>1</td>\n",
       "      <td>женат / замужем</td>\n",
       "      <td>0</td>\n",
       "      <td>F</td>\n",
       "      <td>сотрудник</td>\n",
       "      <td>0</td>\n",
       "      <td>112080</td>\n",
       "      <td>приобретение автомобиля</td>\n",
       "      <td>автомобиль</td>\n",
       "      <td>1 ребенок</td>\n",
       "      <td>от 35 до 45 лет</td>\n",
       "      <td>2</td>\n",
       "      <td>от 90 000 до 120 000</td>\n",
       "      <td>1</td>\n",
       "    </tr>\n",
       "    <tr>\n",
       "      <td>2</td>\n",
       "      <td>0</td>\n",
       "      <td>33</td>\n",
       "      <td>среднее</td>\n",
       "      <td>1</td>\n",
       "      <td>женат / замужем</td>\n",
       "      <td>0</td>\n",
       "      <td>M</td>\n",
       "      <td>сотрудник</td>\n",
       "      <td>0</td>\n",
       "      <td>145885</td>\n",
       "      <td>покупка жилья</td>\n",
       "      <td>недвижимость</td>\n",
       "      <td>нет детей</td>\n",
       "      <td>от 25 до 35 лет</td>\n",
       "      <td>1</td>\n",
       "      <td>от 120 000 до 150 000</td>\n",
       "      <td>2</td>\n",
       "    </tr>\n",
       "    <tr>\n",
       "      <td>3</td>\n",
       "      <td>3</td>\n",
       "      <td>32</td>\n",
       "      <td>среднее</td>\n",
       "      <td>1</td>\n",
       "      <td>женат / замужем</td>\n",
       "      <td>0</td>\n",
       "      <td>M</td>\n",
       "      <td>сотрудник</td>\n",
       "      <td>0</td>\n",
       "      <td>267628</td>\n",
       "      <td>дополнительное образование</td>\n",
       "      <td>образование</td>\n",
       "      <td>более 2-х детей</td>\n",
       "      <td>от 25 до 35 лет</td>\n",
       "      <td>1</td>\n",
       "      <td>более 230 000</td>\n",
       "      <td>5</td>\n",
       "    </tr>\n",
       "    <tr>\n",
       "      <td>4</td>\n",
       "      <td>0</td>\n",
       "      <td>53</td>\n",
       "      <td>среднее</td>\n",
       "      <td>1</td>\n",
       "      <td>гражданский брак</td>\n",
       "      <td>1</td>\n",
       "      <td>F</td>\n",
       "      <td>пенсионер</td>\n",
       "      <td>0</td>\n",
       "      <td>158616</td>\n",
       "      <td>сыграть свадьбу</td>\n",
       "      <td>свадьба</td>\n",
       "      <td>нет детей</td>\n",
       "      <td>от 45 до 55 лет</td>\n",
       "      <td>3</td>\n",
       "      <td>от 150 000 до 180 000</td>\n",
       "      <td>3</td>\n",
       "    </tr>\n",
       "  </tbody>\n",
       "</table>\n",
       "</div>"
      ],
      "text/plain": [
       "   children  age education  education_id     family_status  family_status_id  \\\n",
       "0         1   42    высшее             3   женат / замужем                 0   \n",
       "1         1   36   среднее             1   женат / замужем                 0   \n",
       "2         0   33   среднее             1   женат / замужем                 0   \n",
       "3         3   32   среднее             1   женат / замужем                 0   \n",
       "4         0   53   среднее             1  гражданский брак                 1   \n",
       "\n",
       "  gender income_type  debt  total_income                     purpose  \\\n",
       "0      F   сотрудник     0        253875               покупка жилья   \n",
       "1      F   сотрудник     0        112080     приобретение автомобиля   \n",
       "2      M   сотрудник     0        145885               покупка жилья   \n",
       "3      M   сотрудник     0        267628  дополнительное образование   \n",
       "4      F   пенсионер     0        158616             сыграть свадьбу   \n",
       "\n",
       "   purpose_type   children_group        age_group  age_group_id  \\\n",
       "0  недвижимость        1 ребенок  от 35 до 45 лет             2   \n",
       "1    автомобиль        1 ребенок  от 35 до 45 лет             2   \n",
       "2  недвижимость        нет детей  от 25 до 35 лет             1   \n",
       "3   образование  более 2-х детей  от 25 до 35 лет             1   \n",
       "4       свадьба        нет детей  от 45 до 55 лет             3   \n",
       "\n",
       "            income_group income_group_id  \n",
       "0          более 230 000               5  \n",
       "1   от 90 000 до 120 000               1  \n",
       "2  от 120 000 до 150 000               2  \n",
       "3          более 230 000               5  \n",
       "4  от 150 000 до 180 000               3  "
      ]
     },
     "execution_count": 76,
     "metadata": {},
     "output_type": "execute_result"
    }
   ],
   "source": [
    "df[['income_group', 'income_group_id']] = df['total_income'].apply(income_group)\n",
    "df.head()"
   ]
  },
  {
   "cell_type": "code",
   "execution_count": 77,
   "metadata": {},
   "outputs": [
    {
     "data": {
      "text/plain": [
       "от 120 000 до 150 000    4352\n",
       "от 90 000 до 120 000     3847\n",
       "более 230 000            3479\n",
       "от 150 000 до 180 000    3375\n",
       "до 90 000                3314\n",
       "от 180 000 до 230 000    2875\n",
       "Name: income_group, dtype: int64"
      ]
     },
     "execution_count": 77,
     "metadata": {},
     "output_type": "execute_result"
    }
   ],
   "source": [
    "#Распределение количества заемщиков по категориям\n",
    "df['income_group'].value_counts()"
   ]
  },
  {
   "cell_type": "code",
   "execution_count": 78,
   "metadata": {},
   "outputs": [
    {
     "data": {
      "text/html": [
       "<div>\n",
       "<style scoped>\n",
       "    .dataframe tbody tr th:only-of-type {\n",
       "        vertical-align: middle;\n",
       "    }\n",
       "\n",
       "    .dataframe tbody tr th {\n",
       "        vertical-align: top;\n",
       "    }\n",
       "\n",
       "    .dataframe thead th {\n",
       "        text-align: right;\n",
       "    }\n",
       "</style>\n",
       "<table border=\"1\" class=\"dataframe\">\n",
       "  <thead>\n",
       "    <tr style=\"text-align: right;\">\n",
       "      <th></th>\n",
       "      <th>income_group</th>\n",
       "      <th>income_group_id</th>\n",
       "    </tr>\n",
       "  </thead>\n",
       "  <tbody>\n",
       "    <tr>\n",
       "      <td>0</td>\n",
       "      <td>до 90 000</td>\n",
       "      <td>0</td>\n",
       "    </tr>\n",
       "    <tr>\n",
       "      <td>1</td>\n",
       "      <td>от 90 000 до 120 000</td>\n",
       "      <td>1</td>\n",
       "    </tr>\n",
       "    <tr>\n",
       "      <td>2</td>\n",
       "      <td>от 120 000 до 150 000</td>\n",
       "      <td>2</td>\n",
       "    </tr>\n",
       "    <tr>\n",
       "      <td>3</td>\n",
       "      <td>от 150 000 до 180 000</td>\n",
       "      <td>3</td>\n",
       "    </tr>\n",
       "    <tr>\n",
       "      <td>4</td>\n",
       "      <td>от 180 000 до 230 000</td>\n",
       "      <td>4</td>\n",
       "    </tr>\n",
       "    <tr>\n",
       "      <td>5</td>\n",
       "      <td>более 230 000</td>\n",
       "      <td>5</td>\n",
       "    </tr>\n",
       "  </tbody>\n",
       "</table>\n",
       "</div>"
      ],
      "text/plain": [
       "            income_group income_group_id\n",
       "0              до 90 000               0\n",
       "1   от 90 000 до 120 000               1\n",
       "2  от 120 000 до 150 000               2\n",
       "3  от 150 000 до 180 000               3\n",
       "4  от 180 000 до 230 000               4\n",
       "5          более 230 000               5"
      ]
     },
     "execution_count": 78,
     "metadata": {},
     "output_type": "execute_result"
    }
   ],
   "source": [
    "#\"Cловарь\" соответствия income_group - income_group_id\n",
    "income_group_dict = df[['income_group', 'income_group_id']].drop_duplicates().sort_values('income_group_id').reset_index(drop=True)\n",
    "income_group_dict"
   ]
  },
  {
   "cell_type": "markdown",
   "metadata": {},
   "source": [
    "Удалим из таблицы лишние столбцы до категоризации и длинные названия категорий, оставив только соответствующие им номера"
   ]
  },
  {
   "cell_type": "code",
   "execution_count": 79,
   "metadata": {
    "scrolled": true
   },
   "outputs": [],
   "source": [
    "df_short = df.drop(['children', 'age', 'age_group', 'total_income', 'purpose', 'income_group'], axis=1)"
   ]
  },
  {
   "cell_type": "code",
   "execution_count": 80,
   "metadata": {},
   "outputs": [
    {
     "data": {
      "text/html": [
       "<div>\n",
       "<style scoped>\n",
       "    .dataframe tbody tr th:only-of-type {\n",
       "        vertical-align: middle;\n",
       "    }\n",
       "\n",
       "    .dataframe tbody tr th {\n",
       "        vertical-align: top;\n",
       "    }\n",
       "\n",
       "    .dataframe thead th {\n",
       "        text-align: right;\n",
       "    }\n",
       "</style>\n",
       "<table border=\"1\" class=\"dataframe\">\n",
       "  <thead>\n",
       "    <tr style=\"text-align: right;\">\n",
       "      <th></th>\n",
       "      <th>education</th>\n",
       "      <th>education_id</th>\n",
       "      <th>family_status</th>\n",
       "      <th>family_status_id</th>\n",
       "      <th>gender</th>\n",
       "      <th>income_type</th>\n",
       "      <th>debt</th>\n",
       "      <th>purpose_type</th>\n",
       "      <th>children_group</th>\n",
       "      <th>age_group_id</th>\n",
       "      <th>income_group_id</th>\n",
       "    </tr>\n",
       "  </thead>\n",
       "  <tbody>\n",
       "    <tr>\n",
       "      <td>0</td>\n",
       "      <td>высшее</td>\n",
       "      <td>3</td>\n",
       "      <td>женат / замужем</td>\n",
       "      <td>0</td>\n",
       "      <td>F</td>\n",
       "      <td>сотрудник</td>\n",
       "      <td>0</td>\n",
       "      <td>недвижимость</td>\n",
       "      <td>1 ребенок</td>\n",
       "      <td>2</td>\n",
       "      <td>5</td>\n",
       "    </tr>\n",
       "    <tr>\n",
       "      <td>1</td>\n",
       "      <td>среднее</td>\n",
       "      <td>1</td>\n",
       "      <td>женат / замужем</td>\n",
       "      <td>0</td>\n",
       "      <td>F</td>\n",
       "      <td>сотрудник</td>\n",
       "      <td>0</td>\n",
       "      <td>автомобиль</td>\n",
       "      <td>1 ребенок</td>\n",
       "      <td>2</td>\n",
       "      <td>1</td>\n",
       "    </tr>\n",
       "    <tr>\n",
       "      <td>2</td>\n",
       "      <td>среднее</td>\n",
       "      <td>1</td>\n",
       "      <td>женат / замужем</td>\n",
       "      <td>0</td>\n",
       "      <td>M</td>\n",
       "      <td>сотрудник</td>\n",
       "      <td>0</td>\n",
       "      <td>недвижимость</td>\n",
       "      <td>нет детей</td>\n",
       "      <td>1</td>\n",
       "      <td>2</td>\n",
       "    </tr>\n",
       "    <tr>\n",
       "      <td>3</td>\n",
       "      <td>среднее</td>\n",
       "      <td>1</td>\n",
       "      <td>женат / замужем</td>\n",
       "      <td>0</td>\n",
       "      <td>M</td>\n",
       "      <td>сотрудник</td>\n",
       "      <td>0</td>\n",
       "      <td>образование</td>\n",
       "      <td>более 2-х детей</td>\n",
       "      <td>1</td>\n",
       "      <td>5</td>\n",
       "    </tr>\n",
       "    <tr>\n",
       "      <td>4</td>\n",
       "      <td>среднее</td>\n",
       "      <td>1</td>\n",
       "      <td>гражданский брак</td>\n",
       "      <td>1</td>\n",
       "      <td>F</td>\n",
       "      <td>пенсионер</td>\n",
       "      <td>0</td>\n",
       "      <td>свадьба</td>\n",
       "      <td>нет детей</td>\n",
       "      <td>3</td>\n",
       "      <td>3</td>\n",
       "    </tr>\n",
       "  </tbody>\n",
       "</table>\n",
       "</div>"
      ],
      "text/plain": [
       "  education  education_id     family_status  family_status_id gender  \\\n",
       "0    высшее             3   женат / замужем                 0      F   \n",
       "1   среднее             1   женат / замужем                 0      F   \n",
       "2   среднее             1   женат / замужем                 0      M   \n",
       "3   среднее             1   женат / замужем                 0      M   \n",
       "4   среднее             1  гражданский брак                 1      F   \n",
       "\n",
       "  income_type  debt  purpose_type   children_group  age_group_id  \\\n",
       "0   сотрудник     0  недвижимость        1 ребенок             2   \n",
       "1   сотрудник     0    автомобиль        1 ребенок             2   \n",
       "2   сотрудник     0  недвижимость        нет детей             1   \n",
       "3   сотрудник     0   образование  более 2-х детей             1   \n",
       "4   пенсионер     0       свадьба        нет детей             3   \n",
       "\n",
       "  income_group_id  \n",
       "0               5  \n",
       "1               1  \n",
       "2               2  \n",
       "3               5  \n",
       "4               3  "
      ]
     },
     "execution_count": 80,
     "metadata": {},
     "output_type": "execute_result"
    }
   ],
   "source": [
    "df_short.head()"
   ]
  },
  {
   "cell_type": "markdown",
   "metadata": {},
   "source": [
    "**Вывод**"
   ]
  },
  {
   "cell_type": "markdown",
   "metadata": {},
   "source": [
    "Была произведена категоризация числовых признаков: количество детей, возраст заемщиков, ежемесячный доход. Некоторым из  категорий (возраст заемщиков, ежемесячный доход), характеризующимися длинными названиями, присвоен номер для удобства последющей работы с ними, сформированы \"словари\" соответствия.   \n",
    "Укрупненны категории и преобразовыны идентификаторы по уровню образования клиентов, некоторые категории по типу занятости, представленные единичными данными, были исключены из выборки."
   ]
  },
  {
   "cell_type": "markdown",
   "metadata": {},
   "source": [
    "## Шаг 3. Ответьте на вопросы"
   ]
  },
  {
   "cell_type": "markdown",
   "metadata": {},
   "source": [
    "- Есть ли зависимость между наличием детей и возвратом кредита в срок?"
   ]
  },
  {
   "cell_type": "code",
   "execution_count": 81,
   "metadata": {
    "scrolled": true
   },
   "outputs": [],
   "source": [
    "#Построим сводную таблицу между категориями клиентов по количеству детей и возращаемостью кредита\n",
    "pivot_children =df_short.pivot_table(index='children_group', columns='debt', values='gender', aggfunc='count', margins=True)"
   ]
  },
  {
   "cell_type": "code",
   "execution_count": 82,
   "metadata": {},
   "outputs": [
    {
     "data": {
      "text/html": [
       "<div>\n",
       "<style scoped>\n",
       "    .dataframe tbody tr th:only-of-type {\n",
       "        vertical-align: middle;\n",
       "    }\n",
       "\n",
       "    .dataframe tbody tr th {\n",
       "        vertical-align: top;\n",
       "    }\n",
       "\n",
       "    .dataframe thead th {\n",
       "        text-align: right;\n",
       "    }\n",
       "</style>\n",
       "<table border=\"1\" class=\"dataframe\">\n",
       "  <thead>\n",
       "    <tr style=\"text-align: right;\">\n",
       "      <th>debt</th>\n",
       "      <th>0</th>\n",
       "      <th>1</th>\n",
       "      <th>All</th>\n",
       "    </tr>\n",
       "    <tr>\n",
       "      <th>children_group</th>\n",
       "      <th></th>\n",
       "      <th></th>\n",
       "      <th></th>\n",
       "    </tr>\n",
       "  </thead>\n",
       "  <tbody>\n",
       "    <tr>\n",
       "      <td>1 ребенок</td>\n",
       "      <td>4352</td>\n",
       "      <td>440</td>\n",
       "      <td>4792</td>\n",
       "    </tr>\n",
       "    <tr>\n",
       "      <td>2 детей</td>\n",
       "      <td>1845</td>\n",
       "      <td>193</td>\n",
       "      <td>2038</td>\n",
       "    </tr>\n",
       "    <tr>\n",
       "      <td>более 2-х детей</td>\n",
       "      <td>347</td>\n",
       "      <td>31</td>\n",
       "      <td>378</td>\n",
       "    </tr>\n",
       "    <tr>\n",
       "      <td>нет детей</td>\n",
       "      <td>12976</td>\n",
       "      <td>1058</td>\n",
       "      <td>14034</td>\n",
       "    </tr>\n",
       "    <tr>\n",
       "      <td>All</td>\n",
       "      <td>19520</td>\n",
       "      <td>1722</td>\n",
       "      <td>21242</td>\n",
       "    </tr>\n",
       "  </tbody>\n",
       "</table>\n",
       "</div>"
      ],
      "text/plain": [
       "debt                 0     1    All\n",
       "children_group                     \n",
       "1 ребенок         4352   440   4792\n",
       "2 детей           1845   193   2038\n",
       "более 2-х детей    347    31    378\n",
       "нет детей        12976  1058  14034\n",
       "All              19520  1722  21242"
      ]
     },
     "execution_count": 82,
     "metadata": {},
     "output_type": "execute_result"
    }
   ],
   "source": [
    "pivot_children"
   ]
  },
  {
   "cell_type": "code",
   "execution_count": 83,
   "metadata": {
    "scrolled": false
   },
   "outputs": [
    {
     "data": {
      "text/html": [
       "<div>\n",
       "<style scoped>\n",
       "    .dataframe tbody tr th:only-of-type {\n",
       "        vertical-align: middle;\n",
       "    }\n",
       "\n",
       "    .dataframe tbody tr th {\n",
       "        vertical-align: top;\n",
       "    }\n",
       "\n",
       "    .dataframe thead th {\n",
       "        text-align: right;\n",
       "    }\n",
       "</style>\n",
       "<table border=\"1\" class=\"dataframe\">\n",
       "  <thead>\n",
       "    <tr style=\"text-align: right;\">\n",
       "      <th>debt</th>\n",
       "      <th>0</th>\n",
       "      <th>1</th>\n",
       "      <th>All</th>\n",
       "      <th>percent_non_repayment</th>\n",
       "    </tr>\n",
       "    <tr>\n",
       "      <th>children_group</th>\n",
       "      <th></th>\n",
       "      <th></th>\n",
       "      <th></th>\n",
       "      <th></th>\n",
       "    </tr>\n",
       "  </thead>\n",
       "  <tbody>\n",
       "    <tr>\n",
       "      <td>нет детей</td>\n",
       "      <td>12976</td>\n",
       "      <td>1058</td>\n",
       "      <td>14034</td>\n",
       "      <td>7.5</td>\n",
       "    </tr>\n",
       "    <tr>\n",
       "      <td>All</td>\n",
       "      <td>19520</td>\n",
       "      <td>1722</td>\n",
       "      <td>21242</td>\n",
       "      <td>8.1</td>\n",
       "    </tr>\n",
       "    <tr>\n",
       "      <td>более 2-х детей</td>\n",
       "      <td>347</td>\n",
       "      <td>31</td>\n",
       "      <td>378</td>\n",
       "      <td>8.2</td>\n",
       "    </tr>\n",
       "    <tr>\n",
       "      <td>1 ребенок</td>\n",
       "      <td>4352</td>\n",
       "      <td>440</td>\n",
       "      <td>4792</td>\n",
       "      <td>9.2</td>\n",
       "    </tr>\n",
       "    <tr>\n",
       "      <td>2 детей</td>\n",
       "      <td>1845</td>\n",
       "      <td>193</td>\n",
       "      <td>2038</td>\n",
       "      <td>9.5</td>\n",
       "    </tr>\n",
       "  </tbody>\n",
       "</table>\n",
       "</div>"
      ],
      "text/plain": [
       "debt                 0     1    All  percent_non_repayment\n",
       "children_group                                            \n",
       "нет детей        12976  1058  14034                    7.5\n",
       "All              19520  1722  21242                    8.1\n",
       "более 2-х детей    347    31    378                    8.2\n",
       "1 ребенок         4352   440   4792                    9.2\n",
       "2 детей           1845   193   2038                    9.5"
      ]
     },
     "execution_count": 83,
     "metadata": {},
     "output_type": "execute_result"
    }
   ],
   "source": [
    "#Определим процент невозвратов для каждой категории по семейному положению\n",
    "pivot_children['percent_non_repayment'] = (pivot_children[1] / pivot_children['All'] * 100).round(1)\n",
    "pivot_children.sort_values('percent_non_repayment')"
   ]
  },
  {
   "cell_type": "markdown",
   "metadata": {},
   "source": [
    "**Вывод**"
   ]
  },
  {
   "cell_type": "markdown",
   "metadata": {},
   "source": [
    "Лучше всего с возвращаемостью обстоит дело у клиентов без детей (процент невозвратов 7,5%), хуже всего у клиентов с 2мя детьми (9,5%) и с 1 ребенком (9,2%). При количестве детей более двух  - процент невозвратов составляет 8,1%, т.е. лучше чем у клиентов с одним или двумя детьми, но хуже чем у клиентов без детей. Это может быть связано с тем, что больше двух детей заводят в основном более состоятельные и соответственно, кредитоспособные, люди. Также причина может быть связана с малым объемом выборки для данной категории, и соответственно, ее возможной нерепрезентативностью."
   ]
  },
  {
   "cell_type": "markdown",
   "metadata": {},
   "source": [
    "- Есть ли зависимость между семейным положением и возвратом кредита в срок?"
   ]
  },
  {
   "cell_type": "code",
   "execution_count": 84,
   "metadata": {
    "scrolled": true
   },
   "outputs": [
    {
     "data": {
      "text/html": [
       "<div>\n",
       "<style scoped>\n",
       "    .dataframe tbody tr th:only-of-type {\n",
       "        vertical-align: middle;\n",
       "    }\n",
       "\n",
       "    .dataframe tbody tr th {\n",
       "        vertical-align: top;\n",
       "    }\n",
       "\n",
       "    .dataframe thead th {\n",
       "        text-align: right;\n",
       "    }\n",
       "</style>\n",
       "<table border=\"1\" class=\"dataframe\">\n",
       "  <thead>\n",
       "    <tr style=\"text-align: right;\">\n",
       "      <th>debt</th>\n",
       "      <th>0</th>\n",
       "      <th>1</th>\n",
       "      <th>percent_non_repayment</th>\n",
       "    </tr>\n",
       "    <tr>\n",
       "      <th>family_status</th>\n",
       "      <th></th>\n",
       "      <th></th>\n",
       "      <th></th>\n",
       "    </tr>\n",
       "  </thead>\n",
       "  <tbody>\n",
       "    <tr>\n",
       "      <td>вдовец / вдова</td>\n",
       "      <td>884</td>\n",
       "      <td>62</td>\n",
       "      <td>6.6</td>\n",
       "    </tr>\n",
       "    <tr>\n",
       "      <td>в разводе</td>\n",
       "      <td>1095</td>\n",
       "      <td>84</td>\n",
       "      <td>7.1</td>\n",
       "    </tr>\n",
       "    <tr>\n",
       "      <td>женат / замужем</td>\n",
       "      <td>11294</td>\n",
       "      <td>921</td>\n",
       "      <td>7.5</td>\n",
       "    </tr>\n",
       "    <tr>\n",
       "      <td>гражданский брак</td>\n",
       "      <td>3740</td>\n",
       "      <td>383</td>\n",
       "      <td>9.3</td>\n",
       "    </tr>\n",
       "    <tr>\n",
       "      <td>Не женат / не замужем</td>\n",
       "      <td>2507</td>\n",
       "      <td>272</td>\n",
       "      <td>9.8</td>\n",
       "    </tr>\n",
       "  </tbody>\n",
       "</table>\n",
       "</div>"
      ],
      "text/plain": [
       "debt                       0    1  percent_non_repayment\n",
       "family_status                                           \n",
       "вдовец / вдова           884   62                    6.6\n",
       "в разводе               1095   84                    7.1\n",
       "женат / замужем        11294  921                    7.5\n",
       "гражданский брак        3740  383                    9.3\n",
       "Не женат / не замужем   2507  272                    9.8"
      ]
     },
     "execution_count": 84,
     "metadata": {},
     "output_type": "execute_result"
    }
   ],
   "source": [
    "pivot_family_status =df_short.pivot_table(index='family_status', columns='debt', values='gender', aggfunc='count')\n",
    "pivot_family_status['percent_non_repayment'] = (pivot_family_status[1] / (pivot_family_status[0] +\n",
    "                                                                          pivot_family_status[1]) * 100).round(1)\n",
    "pivot_family_status.sort_values('percent_non_repayment')"
   ]
  },
  {
   "cell_type": "markdown",
   "metadata": {},
   "source": [
    "**Вывод**"
   ]
  },
  {
   "cell_type": "markdown",
   "metadata": {},
   "source": [
    "Лучше всего с возвращаемостью кредитов в срок обстоят дела у вдов/вдовцов (невозврат - 6,6%) и клиентов, находящихся в разводе (невозврат - 7,1%). Больше всего проблем с возвратом кредитов у клиентов не состоявших в браке (9,8 %) и клиентов, состоящих в гражданском браке (9,3%). Вероятно такая связь кореллирует с возрастом, логично предположить, что вдовы/вдовцы это наиболее пожилые клиенты; клиенты, находящиеся в разводе - скорее всего из категории пожилых и средних лет, уже имеющие опыт семейной жизни и успевшие развестись; клиенты находящиеся в гражданском браке - вероятно, в основной массе, молодые люди и люди средних лет, еще не успевшие зарегестрировать отношения; а клиенты никогда не состоявшие в браке - это наиболее молодая категория клиентов.  \n",
    "Основная категория клиентов, состоит в официальных отношениях и имеет процент невозвратов на уровне 7,5%"
   ]
  },
  {
   "cell_type": "markdown",
   "metadata": {},
   "source": [
    "- Есть ли зависимость между уровнем дохода и возвратом кредита в срок?"
   ]
  },
  {
   "cell_type": "code",
   "execution_count": 85,
   "metadata": {},
   "outputs": [
    {
     "data": {
      "text/html": [
       "<div>\n",
       "<style scoped>\n",
       "    .dataframe tbody tr th:only-of-type {\n",
       "        vertical-align: middle;\n",
       "    }\n",
       "\n",
       "    .dataframe tbody tr th {\n",
       "        vertical-align: top;\n",
       "    }\n",
       "\n",
       "    .dataframe thead th {\n",
       "        text-align: right;\n",
       "    }\n",
       "</style>\n",
       "<table border=\"1\" class=\"dataframe\">\n",
       "  <thead>\n",
       "    <tr style=\"text-align: right;\">\n",
       "      <th>debt</th>\n",
       "      <th>0</th>\n",
       "      <th>1</th>\n",
       "      <th>percent_non_repayment</th>\n",
       "    </tr>\n",
       "    <tr>\n",
       "      <th>age_group_id</th>\n",
       "      <th></th>\n",
       "      <th></th>\n",
       "      <th></th>\n",
       "    </tr>\n",
       "  </thead>\n",
       "  <tbody>\n",
       "    <tr>\n",
       "      <td>4</td>\n",
       "      <td>3656</td>\n",
       "      <td>213</td>\n",
       "      <td>5.5</td>\n",
       "    </tr>\n",
       "    <tr>\n",
       "      <td>5</td>\n",
       "      <td>847</td>\n",
       "      <td>49</td>\n",
       "      <td>5.5</td>\n",
       "    </tr>\n",
       "    <tr>\n",
       "      <td>3</td>\n",
       "      <td>4502</td>\n",
       "      <td>342</td>\n",
       "      <td>7.1</td>\n",
       "    </tr>\n",
       "    <tr>\n",
       "      <td>2</td>\n",
       "      <td>5232</td>\n",
       "      <td>471</td>\n",
       "      <td>8.3</td>\n",
       "    </tr>\n",
       "    <tr>\n",
       "      <td>0</td>\n",
       "      <td>782</td>\n",
       "      <td>88</td>\n",
       "      <td>10.1</td>\n",
       "    </tr>\n",
       "    <tr>\n",
       "      <td>1</td>\n",
       "      <td>4501</td>\n",
       "      <td>559</td>\n",
       "      <td>11.0</td>\n",
       "    </tr>\n",
       "  </tbody>\n",
       "</table>\n",
       "</div>"
      ],
      "text/plain": [
       "debt             0    1  percent_non_repayment\n",
       "age_group_id                                  \n",
       "4             3656  213                    5.5\n",
       "5              847   49                    5.5\n",
       "3             4502  342                    7.1\n",
       "2             5232  471                    8.3\n",
       "0              782   88                   10.1\n",
       "1             4501  559                   11.0"
      ]
     },
     "execution_count": 85,
     "metadata": {},
     "output_type": "execute_result"
    }
   ],
   "source": [
    "pivot_age_group_id =df_short.pivot_table(index='age_group_id', columns='debt', values='gender', aggfunc='count')\n",
    "pivot_age_group_id ['percent_non_repayment'] = (pivot_age_group_id[1] / (pivot_age_group_id[0] +\n",
    "                                                                          pivot_age_group_id[1]) * 100).round(1)\n",
    "pivot_age_group_id.sort_values('percent_non_repayment')"
   ]
  },
  {
   "cell_type": "markdown",
   "metadata": {},
   "source": [
    "**Вывод**"
   ]
  },
  {
   "cell_type": "markdown",
   "metadata": {},
   "source": [
    "Как видим, существует достаточно четкая связь между возрастом и возвращаемостью кредитов. Наилучшая возвращаемость у клиентов из возрастных групп 4 и 5 - по 5,5% невозврата (категория клиентов старше 55 лет). Больше всего невозвратов у наиболее молодых клиентов из категории 0 (10,1%) и 1 (22%) - это клиенты моложе 35 лет.  \n",
    "Проверим также гипотезу о связи между возрастом и семейным положением, высказанный при проверке связи между возвращаемостью клиентов и семейным положением"
   ]
  },
  {
   "cell_type": "code",
   "execution_count": 86,
   "metadata": {},
   "outputs": [
    {
     "data": {
      "text/html": [
       "<div>\n",
       "<style scoped>\n",
       "    .dataframe tbody tr th:only-of-type {\n",
       "        vertical-align: middle;\n",
       "    }\n",
       "\n",
       "    .dataframe tbody tr th {\n",
       "        vertical-align: top;\n",
       "    }\n",
       "\n",
       "    .dataframe thead th {\n",
       "        text-align: right;\n",
       "    }\n",
       "</style>\n",
       "<table border=\"1\" class=\"dataframe\">\n",
       "  <thead>\n",
       "    <tr style=\"text-align: right;\">\n",
       "      <th>age_group_id</th>\n",
       "      <th>0</th>\n",
       "      <th>1</th>\n",
       "      <th>2</th>\n",
       "      <th>3</th>\n",
       "      <th>4</th>\n",
       "      <th>5</th>\n",
       "      <th>All</th>\n",
       "    </tr>\n",
       "    <tr>\n",
       "      <th>family_status</th>\n",
       "      <th></th>\n",
       "      <th></th>\n",
       "      <th></th>\n",
       "      <th></th>\n",
       "      <th></th>\n",
       "      <th></th>\n",
       "      <th></th>\n",
       "    </tr>\n",
       "  </thead>\n",
       "  <tbody>\n",
       "    <tr>\n",
       "      <td>Не женат / не замужем</td>\n",
       "      <td>360</td>\n",
       "      <td>950</td>\n",
       "      <td>575</td>\n",
       "      <td>465</td>\n",
       "      <td>344</td>\n",
       "      <td>85</td>\n",
       "      <td>2779</td>\n",
       "    </tr>\n",
       "    <tr>\n",
       "      <td>в разводе</td>\n",
       "      <td>15</td>\n",
       "      <td>183</td>\n",
       "      <td>344</td>\n",
       "      <td>338</td>\n",
       "      <td>250</td>\n",
       "      <td>49</td>\n",
       "      <td>1179</td>\n",
       "    </tr>\n",
       "    <tr>\n",
       "      <td>вдовец / вдова</td>\n",
       "      <td>1</td>\n",
       "      <td>16</td>\n",
       "      <td>81</td>\n",
       "      <td>208</td>\n",
       "      <td>471</td>\n",
       "      <td>169</td>\n",
       "      <td>946</td>\n",
       "    </tr>\n",
       "    <tr>\n",
       "      <td>гражданский брак</td>\n",
       "      <td>220</td>\n",
       "      <td>1032</td>\n",
       "      <td>1179</td>\n",
       "      <td>904</td>\n",
       "      <td>645</td>\n",
       "      <td>143</td>\n",
       "      <td>4123</td>\n",
       "    </tr>\n",
       "    <tr>\n",
       "      <td>женат / замужем</td>\n",
       "      <td>274</td>\n",
       "      <td>2879</td>\n",
       "      <td>3524</td>\n",
       "      <td>2929</td>\n",
       "      <td>2159</td>\n",
       "      <td>450</td>\n",
       "      <td>12215</td>\n",
       "    </tr>\n",
       "    <tr>\n",
       "      <td>All</td>\n",
       "      <td>870</td>\n",
       "      <td>5060</td>\n",
       "      <td>5703</td>\n",
       "      <td>4844</td>\n",
       "      <td>3869</td>\n",
       "      <td>896</td>\n",
       "      <td>21242</td>\n",
       "    </tr>\n",
       "  </tbody>\n",
       "</table>\n",
       "</div>"
      ],
      "text/plain": [
       "age_group_id             0     1     2     3     4    5    All\n",
       "family_status                                                 \n",
       "Не женат / не замужем  360   950   575   465   344   85   2779\n",
       "в разводе               15   183   344   338   250   49   1179\n",
       "вдовец / вдова           1    16    81   208   471  169    946\n",
       "гражданский брак       220  1032  1179   904   645  143   4123\n",
       "женат / замужем        274  2879  3524  2929  2159  450  12215\n",
       "All                    870  5060  5703  4844  3869  896  21242"
      ]
     },
     "execution_count": 86,
     "metadata": {},
     "output_type": "execute_result"
    }
   ],
   "source": [
    "#Сводня таблица общего количества клиентов в разрезе семейного положения и возрастной группы\n",
    "pivot_age_family =df_short.pivot_table(index='family_status', columns='age_group_id', values='debt', \n",
    "                                       aggfunc='count', margins=True)\n",
    "pivot_age_family"
   ]
  },
  {
   "cell_type": "code",
   "execution_count": 87,
   "metadata": {},
   "outputs": [
    {
     "data": {
      "text/html": [
       "<div>\n",
       "<style scoped>\n",
       "    .dataframe tbody tr th:only-of-type {\n",
       "        vertical-align: middle;\n",
       "    }\n",
       "\n",
       "    .dataframe tbody tr th {\n",
       "        vertical-align: top;\n",
       "    }\n",
       "\n",
       "    .dataframe thead th {\n",
       "        text-align: right;\n",
       "    }\n",
       "</style>\n",
       "<table border=\"1\" class=\"dataframe\">\n",
       "  <thead>\n",
       "    <tr style=\"text-align: right;\">\n",
       "      <th>age_group_id</th>\n",
       "      <th>0</th>\n",
       "      <th>1</th>\n",
       "      <th>2</th>\n",
       "      <th>3</th>\n",
       "      <th>4</th>\n",
       "      <th>5</th>\n",
       "      <th>All</th>\n",
       "    </tr>\n",
       "    <tr>\n",
       "      <th>family_status</th>\n",
       "      <th></th>\n",
       "      <th></th>\n",
       "      <th></th>\n",
       "      <th></th>\n",
       "      <th></th>\n",
       "      <th></th>\n",
       "      <th></th>\n",
       "    </tr>\n",
       "  </thead>\n",
       "  <tbody>\n",
       "    <tr>\n",
       "      <td>Не женат / не замужем</td>\n",
       "      <td>13.0</td>\n",
       "      <td>34.2</td>\n",
       "      <td>20.7</td>\n",
       "      <td>16.7</td>\n",
       "      <td>12.4</td>\n",
       "      <td>3.1</td>\n",
       "      <td>100.0</td>\n",
       "    </tr>\n",
       "    <tr>\n",
       "      <td>в разводе</td>\n",
       "      <td>1.3</td>\n",
       "      <td>15.5</td>\n",
       "      <td>29.2</td>\n",
       "      <td>28.7</td>\n",
       "      <td>21.2</td>\n",
       "      <td>4.2</td>\n",
       "      <td>100.0</td>\n",
       "    </tr>\n",
       "    <tr>\n",
       "      <td>вдовец / вдова</td>\n",
       "      <td>0.1</td>\n",
       "      <td>1.7</td>\n",
       "      <td>8.6</td>\n",
       "      <td>22.0</td>\n",
       "      <td>49.8</td>\n",
       "      <td>17.9</td>\n",
       "      <td>100.0</td>\n",
       "    </tr>\n",
       "    <tr>\n",
       "      <td>гражданский брак</td>\n",
       "      <td>5.3</td>\n",
       "      <td>25.0</td>\n",
       "      <td>28.6</td>\n",
       "      <td>21.9</td>\n",
       "      <td>15.6</td>\n",
       "      <td>3.5</td>\n",
       "      <td>100.0</td>\n",
       "    </tr>\n",
       "    <tr>\n",
       "      <td>женат / замужем</td>\n",
       "      <td>2.2</td>\n",
       "      <td>23.6</td>\n",
       "      <td>28.8</td>\n",
       "      <td>24.0</td>\n",
       "      <td>17.7</td>\n",
       "      <td>3.7</td>\n",
       "      <td>100.0</td>\n",
       "    </tr>\n",
       "    <tr>\n",
       "      <td>All</td>\n",
       "      <td>4.1</td>\n",
       "      <td>23.8</td>\n",
       "      <td>26.8</td>\n",
       "      <td>22.8</td>\n",
       "      <td>18.2</td>\n",
       "      <td>4.2</td>\n",
       "      <td>100.0</td>\n",
       "    </tr>\n",
       "  </tbody>\n",
       "</table>\n",
       "</div>"
      ],
      "text/plain": [
       "age_group_id              0     1     2     3     4     5    All\n",
       "family_status                                                   \n",
       "Не женат / не замужем  13.0  34.2  20.7  16.7  12.4   3.1  100.0\n",
       "в разводе               1.3  15.5  29.2  28.7  21.2   4.2  100.0\n",
       "вдовец / вдова          0.1   1.7   8.6  22.0  49.8  17.9  100.0\n",
       "гражданский брак        5.3  25.0  28.6  21.9  15.6   3.5  100.0\n",
       "женат / замужем         2.2  23.6  28.8  24.0  17.7   3.7  100.0\n",
       "All                     4.1  23.8  26.8  22.8  18.2   4.2  100.0"
      ]
     },
     "execution_count": 87,
     "metadata": {},
     "output_type": "execute_result"
    }
   ],
   "source": [
    "#Процентное соотношение количества клиентов по возрастным группам \n",
    "#в каждой категории по семейному положению\n",
    "group_family = df_short.pivot_table(index='family_status', values='debt', aggfunc='count', margins=True)\n",
    "pivot_age_family_percent = pivot_age_family.div(group_family['debt']*0.01, axis=0).round(1)\n",
    "pivot_age_family_percent"
   ]
  },
  {
   "cell_type": "markdown",
   "metadata": {},
   "source": [
    "Действительно, основное количество вдов/вдовцов сосредоточено в старших возрастых группах, клиентов, находящихся в разводе - в возрастной категории 3 и 4, а клиенты, состоящие в гражданском браке и клиенты не состоящие в браке - это в основном клиенты из возрастных групп 1 и 2. Следовательно, возраст и семейный статус - это признаки, характеризующиеся высокой корреляцией, это необходимо будет учесть при создании модели скоринга. "
   ]
  },
  {
   "cell_type": "markdown",
   "metadata": {},
   "source": [
    "- Как разные цели кредита влияют на его возврат в срок?"
   ]
  },
  {
   "cell_type": "code",
   "execution_count": 88,
   "metadata": {},
   "outputs": [
    {
     "data": {
      "text/html": [
       "<div>\n",
       "<style scoped>\n",
       "    .dataframe tbody tr th:only-of-type {\n",
       "        vertical-align: middle;\n",
       "    }\n",
       "\n",
       "    .dataframe tbody tr th {\n",
       "        vertical-align: top;\n",
       "    }\n",
       "\n",
       "    .dataframe thead th {\n",
       "        text-align: right;\n",
       "    }\n",
       "</style>\n",
       "<table border=\"1\" class=\"dataframe\">\n",
       "  <thead>\n",
       "    <tr style=\"text-align: right;\">\n",
       "      <th>debt</th>\n",
       "      <th>0</th>\n",
       "      <th>1</th>\n",
       "      <th>percent_non_repayment</th>\n",
       "    </tr>\n",
       "    <tr>\n",
       "      <th>purpose_type</th>\n",
       "      <th></th>\n",
       "      <th></th>\n",
       "      <th></th>\n",
       "    </tr>\n",
       "  </thead>\n",
       "  <tbody>\n",
       "    <tr>\n",
       "      <td>недвижимость</td>\n",
       "      <td>9926</td>\n",
       "      <td>776</td>\n",
       "      <td>7.3</td>\n",
       "    </tr>\n",
       "    <tr>\n",
       "      <td>свадьба</td>\n",
       "      <td>2129</td>\n",
       "      <td>181</td>\n",
       "      <td>7.8</td>\n",
       "    </tr>\n",
       "    <tr>\n",
       "      <td>автомобиль</td>\n",
       "      <td>3863</td>\n",
       "      <td>396</td>\n",
       "      <td>9.3</td>\n",
       "    </tr>\n",
       "    <tr>\n",
       "      <td>образование</td>\n",
       "      <td>3602</td>\n",
       "      <td>369</td>\n",
       "      <td>9.3</td>\n",
       "    </tr>\n",
       "  </tbody>\n",
       "</table>\n",
       "</div>"
      ],
      "text/plain": [
       "debt             0    1  percent_non_repayment\n",
       "purpose_type                                  \n",
       "недвижимость  9926  776                    7.3\n",
       "свадьба       2129  181                    7.8\n",
       "автомобиль    3863  396                    9.3\n",
       "образование   3602  369                    9.3"
      ]
     },
     "execution_count": 88,
     "metadata": {},
     "output_type": "execute_result"
    }
   ],
   "source": [
    "pivot_purpose =df_short.pivot_table(index='purpose_type', columns='debt', values='gender', aggfunc='count')\n",
    "pivot_purpose ['percent_non_repayment'] = (pivot_purpose[1] / (pivot_purpose[0] +\n",
    "                                                                          pivot_purpose[1]) * 100).round(1)\n",
    "pivot_purpose .sort_values('percent_non_repayment')"
   ]
  },
  {
   "cell_type": "markdown",
   "metadata": {},
   "source": [
    "**Вывод**"
   ]
  },
  {
   "cell_type": "markdown",
   "metadata": {},
   "source": [
    "Наибольший процент невозвратов в срок у кредитов взятых для целей \"образование\" и \"автомобиль\" - по 9,3% , наименьший процент невозвратов у кредитов, взятых под цели \"недвижимость\" - 7,3%. Возможно это связано с тем, что для приобретения недвижимости берутся существенно большие суммы по сравнению с другими и, соответственно, клиенты подвергаются более жесткой проверке на предмет кредитоспособности."
   ]
  },
  {
   "cell_type": "markdown",
   "metadata": {},
   "source": [
    "## Шаг 4. Общий вывод"
   ]
  },
  {
   "cell_type": "markdown",
   "metadata": {},
   "source": [
    "В ходе выполнения проекта была произведена предобработка обезличенных данных о заемщиках, c целью подготовки этих данных к последующему использованию при создании модели кредитного скорринга. Удалены пропуски; обработаны данные, содержащие некорректные значения и ошибки; устранены явные  и неявные дубли, в т.ч. с использованием метода лемматизации; ряд признаков был категоризирован, некоторые ранее существующие категории укрупнены и преобразованы. На конечном этапе была произведена оценка влияния различных признаков на возврат кредита в срок.  \n",
    "Итоговая таблица готова к передаче для последующего анализа и моделирования."
   ]
  },
  {
   "cell_type": "markdown",
   "metadata": {},
   "source": [
    "## Чек-лист готовности проекта\n",
    "\n",
    "Поставьте 'x' в выполненных пунктах. Далее нажмите Shift+Enter."
   ]
  },
  {
   "cell_type": "markdown",
   "metadata": {},
   "source": [
    "- [x]  открыт файл;\n",
    "- [x]  файл изучен;\n",
    "- [x]  определены пропущенные значения;\n",
    "- [x]  заполнены пропущенные значения;\n",
    "- [x]  есть пояснение, какие пропущенные значения обнаружены;\n",
    "- [x]  описаны возможные причины появления пропусков в данных;\n",
    "- [x]  объяснено, по какому принципу заполнены пропуски;\n",
    "- [x]  заменен вещественный тип данных на целочисленный;\n",
    "- [x]  есть пояснение, какой метод используется для изменения типа данных и почему;\n",
    "- [x]  удалены дубликаты;\n",
    "- [x]  есть пояснение, какой метод используется для поиска и удаления дубликатов;\n",
    "- [x]  описаны возможные причины появления дубликатов в данных;\n",
    "- [x]  выделены леммы в значениях столбца с целями получения кредита;\n",
    "- [x]  описан процесс лемматизации;\n",
    "- [x]  данные категоризированы;\n",
    "- [x]  есть объяснение принципа категоризации данных;\n",
    "- [x]  есть ответ на вопрос: \"Есть ли зависимость между наличием детей и возвратом кредита в срок?\";\n",
    "- [x]  есть ответ на вопрос: \"Есть ли зависимость между семейным положением и возвратом кредита в срок?\";\n",
    "- [x]  есть ответ на вопрос: \"Есть ли зависимость между уровнем дохода и возвратом кредита в срок?\";\n",
    "- [x]  есть ответ на вопрос: \"Как разные цели кредита влияют на его возврат в срок?\";\n",
    "- [x]  в каждом этапе есть выводы;\n",
    "- [x]  есть общий вывод."
   ]
  }
 ],
 "metadata": {
  "kernelspec": {
   "display_name": "Python 3 (ipykernel)",
   "language": "python",
   "name": "python3"
  },
  "language_info": {
   "codemirror_mode": {
    "name": "ipython",
    "version": 3
   },
   "file_extension": ".py",
   "mimetype": "text/x-python",
   "name": "python",
   "nbconvert_exporter": "python",
   "pygments_lexer": "ipython3",
   "version": "3.7.8"
  },
  "toc": {
   "base_numbering": 1,
   "nav_menu": {},
   "number_sections": true,
   "sideBar": true,
   "skip_h1_title": true,
   "title_cell": "Table of Contents",
   "title_sidebar": "Contents",
   "toc_cell": false,
   "toc_position": {},
   "toc_section_display": true,
   "toc_window_display": false
  }
 },
 "nbformat": 4,
 "nbformat_minor": 2
}
